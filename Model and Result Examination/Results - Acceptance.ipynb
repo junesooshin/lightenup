{
 "cells": [
  {
   "attachments": {},
   "cell_type": "markdown",
   "metadata": {},
   "source": [
    "# Model Comparison - Acceptance"
   ]
  },
  {
   "cell_type": "code",
   "execution_count": 15,
   "metadata": {},
   "outputs": [],
   "source": [
    "import numpy as np\n",
    "import pandas as pd\n",
    "import json\n",
    "import os\n",
    "import matplotlib.pyplot as plt\n",
    "import matplotlib.image as mpimg\n",
    "from tabulate import tabulate\n",
    "from PIL import Image\n",
    "from Model_comparison_functions import *\n",
    "from matplotlib.ticker import ScalarFormatter\n",
    "\n"
   ]
  },
  {
   "attachments": {},
   "cell_type": "markdown",
   "metadata": {},
   "source": [
    "Set path:\n"
   ]
  },
  {
   "cell_type": "code",
   "execution_count": 16,
   "metadata": {},
   "outputs": [],
   "source": [
    "desktop_path = os.path.expanduser(\"~/Desktop\")\n",
    "#os.chdir(desktop_path+'\\DTU MSc\\MSc thesis\\git\\lightenup')\n",
    "os.chdir(desktop_path+'\\Thesis')\n",
    "Add_on_path = \"\\\\Results\\\\Different forecasts\\\\Gamma\\\\\"\n",
    "current_directory = os.getcwd()  # Jupyter file take the current directory as where the jupyter file is located. Different than a .py file..."
   ]
  },
  {
   "cell_type": "code",
   "execution_count": 13,
   "metadata": {},
   "outputs": [],
   "source": [
    "def Create_Acceptance_Array_from_Profit(df_Exp_profit,df_RT_profit,GammaRange = [\"0.8\",\"0.83\",\"0.85\",\"0.87\",\"0.9\",\"0.93\",\"0.95\",\"0.97\",\"1.0\",\"1.05\",\"1.1\"]\n",
    "                                       ):\n",
    "    # Initialize a numpy array of size (number of different forecast accuracies,number of different train sizes, test days, models, result) with empty values\n",
    "    \n",
    "    \n",
    "    Array = np.empty((len(GammaRange),1, 1, 88, 5, 2))\n",
    "    \n",
    "    for col in df_Exp_profit.columns:\n",
    "        \n",
    "        # Create a four dimensional \n",
    "\n",
    "        # (M, D, Model)\n",
    "        SampleSizes = [5] \n",
    "        # Assign the month, the day, the model, and each of the \n",
    "\n",
    "        # Either acc_1.1_f1_d5_upd72_t73 or f1_d5_upd72_t73\n",
    "        parts = col.split('_')\n",
    "\n",
    "        \n",
    "        # Extract the 'm', 'd', and 't' values from column name\n",
    "        Gamma = parts[1][0:]\n",
    "        #print(Gamma)\n",
    "        Samplesize = int(parts[3][1:])\n",
    "        f = int(parts[2][1:])\n",
    "        \n",
    "        d = int(parts[4][3:])\n",
    "        t = int(parts[5][1:])\n",
    "\n",
    "        # Only if the file is part of the specified range then include it.\n",
    "        if Samplesize in SampleSizes: \n",
    "            m = SampleSizes.index(Samplesize)\n",
    "        if Gamma in GammaRange:\n",
    "            a = GammaRange.index(Gamma)\n",
    "            #print(a)\n",
    "\n",
    "        \n",
    "\n",
    "\n",
    "\n",
    "        Array[(a),(f-1),(m),(d-1),0,0] = df_Exp_profit[col]['rule']\n",
    "        Array[(a),(f-1),(m),(d-1),1,0] = df_Exp_profit[col]['det']\n",
    "        Array[(a),(f-1),(m),(d-1),2,0] = df_Exp_profit[col]['sto']\n",
    "        Array[(a),(f-1),(m),(d-1),3,0] = df_Exp_profit[col]['feature']\n",
    "        Array[(a),(f-1),(m),(d-1),4,0] = df_Exp_profit[col]['oracle']\n",
    "\n",
    "        Array[(a),(f-1),(m),(d-1),0,1] = df_RT_profit[col]['rule']\n",
    "        Array[(a),(f-1),(m),(d-1),1,1] = df_RT_profit[col]['det']\n",
    "        Array[(a),(f-1),(m),(d-1),2,1] = df_RT_profit[col]['sto']\n",
    "        Array[(a),(f-1),(m),(d-1),3,1] = df_RT_profit[col]['feature']\n",
    "        Array[(a),(f-1),(m),(d-1),4,1] = df_RT_profit[col]['oracle']\n",
    "        \n",
    "    return Array"
   ]
  },
  {
   "cell_type": "code",
   "execution_count": 17,
   "metadata": {},
   "outputs": [
    {
     "ename": "TypeError",
     "evalue": "'int' object is not subscriptable",
     "output_type": "error",
     "traceback": [
      "\u001b[1;31m---------------------------------------------------------------------------\u001b[0m",
      "\u001b[1;31mTypeError\u001b[0m                                 Traceback (most recent call last)",
      "Cell \u001b[1;32mIn[17], line 3\u001b[0m\n\u001b[0;32m      1\u001b[0m df_Exp_Profit \u001b[39m=\u001b[39m json_to_df(current_directory \u001b[39m+\u001b[39m Add_on_path \u001b[39m+\u001b[39m  \u001b[39m'\u001b[39m\u001b[39mExp_profit.json\u001b[39m\u001b[39m'\u001b[39m)\n\u001b[0;32m      2\u001b[0m df_RT_Profit \u001b[39m=\u001b[39m json_to_df(current_directory \u001b[39m+\u001b[39m Add_on_path \u001b[39m+\u001b[39m \u001b[39m'\u001b[39m\u001b[39mRT_profit.json\u001b[39m\u001b[39m'\u001b[39m)\n\u001b[1;32m----> 3\u001b[0m Array_Acceptance,Array_Bid,Array_comp \u001b[39m=\u001b[39m Collect_bid_results(current_directory,Add_on_path,\u001b[39m1\u001b[39;49m,\u001b[39m5\u001b[39;49m,[\u001b[39m\"\u001b[39;49m\u001b[39m0.8\u001b[39;49m\u001b[39m\"\u001b[39;49m,\u001b[39m\"\u001b[39;49m\u001b[39m0.83\u001b[39;49m\u001b[39m\"\u001b[39;49m,\u001b[39m\"\u001b[39;49m\u001b[39m0.85\u001b[39;49m\u001b[39m\"\u001b[39;49m,\u001b[39m\"\u001b[39;49m\u001b[39m0.87\u001b[39;49m\u001b[39m\"\u001b[39;49m,\u001b[39m\"\u001b[39;49m\u001b[39m0.9\u001b[39;49m\u001b[39m\"\u001b[39;49m,\u001b[39m\"\u001b[39;49m\u001b[39m0.93\u001b[39;49m\u001b[39m\"\u001b[39;49m,\u001b[39m\"\u001b[39;49m\u001b[39m0.95\u001b[39;49m\u001b[39m\"\u001b[39;49m,\u001b[39m\"\u001b[39;49m\u001b[39m0.97\u001b[39;49m\u001b[39m\"\u001b[39;49m,\u001b[39m\"\u001b[39;49m\u001b[39m1.0\u001b[39;49m\u001b[39m\"\u001b[39;49m,\u001b[39m\"\u001b[39;49m\u001b[39m1.05\u001b[39;49m\u001b[39m\"\u001b[39;49m,\u001b[39m\"\u001b[39;49m\u001b[39m1.1\u001b[39;49m\u001b[39m\"\u001b[39;49m])\n",
      "File \u001b[1;32mc:\\Users\\Daniel  BV\\Desktop\\Thesis\\lightenup\\Model and Result Examination\\Model_comparison_functions.py:399\u001b[0m, in \u001b[0;36mCollect_bid_results\u001b[1;34m(current_directory, Add_on_paths, forecast_idxs, SampleSize_idxs, models)\u001b[0m\n\u001b[0;32m    392\u001b[0m models \u001b[39m=\u001b[39m [Model[i] \u001b[39mfor\u001b[39;00m i, m \u001b[39min\u001b[39;00m \u001b[39menumerate\u001b[39m(Model) \u001b[39mif\u001b[39;00m m \u001b[39min\u001b[39;00m models]\n\u001b[0;32m    394\u001b[0m \u001b[39mfor\u001b[39;00m path,Add_on_path \u001b[39min\u001b[39;00m \u001b[39menumerate\u001b[39m(Add_on_paths):\n\u001b[0;32m    395\u001b[0m     \u001b[39m#for s,SampleSize_idx in enumerate(SampleSize_idxs):\u001b[39;00m\n\u001b[1;32m--> 399\u001b[0m     ids \u001b[39m=\u001b[39m [\u001b[39mf\u001b[39m\u001b[39m'\u001b[39m\u001b[39mf\u001b[39m\u001b[39m{\u001b[39;00mforecast_idxs[path]\u001b[39m}\u001b[39;00m\u001b[39m_d\u001b[39m\u001b[39m{\u001b[39;00mSampleSize_idxs[path]\u001b[39m}\u001b[39;00m\u001b[39m_upd\u001b[39m\u001b[39m{\u001b[39;00md\u001b[39m}\u001b[39;00m\u001b[39m_t\u001b[39m\u001b[39m{\u001b[39;00md\u001b[39m+\u001b[39m\u001b[39m1\u001b[39m\u001b[39m}\u001b[39;00m\u001b[39m'\u001b[39m \u001b[39mfor\u001b[39;00m d \u001b[39min\u001b[39;00m \u001b[39mrange\u001b[39m(\u001b[39m0\u001b[39m,\u001b[39m88\u001b[39m)]\n\u001b[0;32m    402\u001b[0m     \u001b[39m# Load each id at a time\u001b[39;00m\n\u001b[0;32m    403\u001b[0m     \u001b[39mfor\u001b[39;00m d,\u001b[39mid\u001b[39m \u001b[39min\u001b[39;00m \u001b[39menumerate\u001b[39m(ids):\n",
      "File \u001b[1;32mc:\\Users\\Daniel  BV\\Desktop\\Thesis\\lightenup\\Model and Result Examination\\Model_comparison_functions.py:399\u001b[0m, in \u001b[0;36m<listcomp>\u001b[1;34m(.0)\u001b[0m\n\u001b[0;32m    392\u001b[0m models \u001b[39m=\u001b[39m [Model[i] \u001b[39mfor\u001b[39;00m i, m \u001b[39min\u001b[39;00m \u001b[39menumerate\u001b[39m(Model) \u001b[39mif\u001b[39;00m m \u001b[39min\u001b[39;00m models]\n\u001b[0;32m    394\u001b[0m \u001b[39mfor\u001b[39;00m path,Add_on_path \u001b[39min\u001b[39;00m \u001b[39menumerate\u001b[39m(Add_on_paths):\n\u001b[0;32m    395\u001b[0m     \u001b[39m#for s,SampleSize_idx in enumerate(SampleSize_idxs):\u001b[39;00m\n\u001b[1;32m--> 399\u001b[0m     ids \u001b[39m=\u001b[39m [\u001b[39mf\u001b[39m\u001b[39m'\u001b[39m\u001b[39mf\u001b[39m\u001b[39m{\u001b[39;00mforecast_idxs[path]\u001b[39m}\u001b[39;00m\u001b[39m_d\u001b[39m\u001b[39m{\u001b[39;00mSampleSize_idxs[path]\u001b[39m}\u001b[39;00m\u001b[39m_upd\u001b[39m\u001b[39m{\u001b[39;00md\u001b[39m}\u001b[39;00m\u001b[39m_t\u001b[39m\u001b[39m{\u001b[39;00md\u001b[39m+\u001b[39m\u001b[39m1\u001b[39m\u001b[39m}\u001b[39;00m\u001b[39m'\u001b[39m \u001b[39mfor\u001b[39;00m d \u001b[39min\u001b[39;00m \u001b[39mrange\u001b[39m(\u001b[39m0\u001b[39m,\u001b[39m88\u001b[39m)]\n\u001b[0;32m    402\u001b[0m     \u001b[39m# Load each id at a time\u001b[39;00m\n\u001b[0;32m    403\u001b[0m     \u001b[39mfor\u001b[39;00m d,\u001b[39mid\u001b[39m \u001b[39min\u001b[39;00m \u001b[39menumerate\u001b[39m(ids):\n",
      "\u001b[1;31mTypeError\u001b[0m: 'int' object is not subscriptable"
     ]
    }
   ],
   "source": [
    "df_Exp_Profit = json_to_df(current_directory + Add_on_path +  'Exp_profit.json')\n",
    "df_RT_Profit = json_to_df(current_directory + Add_on_path + 'RT_profit.json')\n",
    "Array_Acceptance,Array_Bid,Array_comp = Collect_bid_results(current_directory,Add_on_path,1,5,[\"0.8\",\"0.83\",\"0.85\",\"0.87\",\"0.9\",\"0.93\",\"0.95\",\"0.97\",\"1.0\",\"1.05\",\"1.1\"])"
   ]
  },
  {
   "cell_type": "code",
   "execution_count": null,
   "metadata": {},
   "outputs": [],
   "source": [
    "Array_Profit = Create_Acceptance_Array_from_Profit(df_Exp_Profit,df_RT_Profit)\n"
   ]
  },
  {
   "cell_type": "code",
   "execution_count": null,
   "metadata": {},
   "outputs": [
    {
     "data": {
      "text/plain": [
       "(11, 1, 1, 88, 5, 2)"
      ]
     },
     "execution_count": 79,
     "metadata": {},
     "output_type": "execute_result"
    }
   ],
   "source": [
    "np.shape(Array_Profit)"
   ]
  },
  {
   "cell_type": "code",
   "execution_count": null,
   "metadata": {},
   "outputs": [],
   "source": [
    "Array_Profit_mean = np.mean(Array_Profit,axis=3)\n"
   ]
  },
  {
   "cell_type": "code",
   "execution_count": null,
   "metadata": {},
   "outputs": [
    {
     "name": "stdout",
     "output_type": "stream",
     "text": [
      "[[2344.75993114 2928.48447789 2497.20163466 2666.66290055 6877.0498741 ]\n",
      " [2367.96365635 2971.08217198 2503.66081001 2686.98849925 6877.0498741 ]\n",
      " [2383.6157203  2969.58615944 2490.99079633 2680.98759636 6877.0498741 ]\n",
      " [2354.92151842 2964.7233218  2473.76571583 2658.85535478 6877.0498741 ]\n",
      " [2244.5488617  2842.53311976 2352.02895281 2532.54980723 6877.0498741 ]\n",
      " [2063.60864994 2529.79482426 2143.15038504 2284.26894866 6877.0498741 ]\n",
      " [1874.60099829 2257.99005725 1953.69984741 2059.21913477 6877.0498741 ]\n",
      " [1591.1698003  1849.51775314 1684.63618803 1734.42908157 6877.0498741 ]\n",
      " [ 987.69214667 1018.13539815 1167.32954849 1090.48580078 6877.0498741 ]\n",
      " [ 453.28341212  283.58437509  720.93965776  562.41653048 6877.0498741 ]\n",
      " [ 309.28645558  124.50788507  600.12066979  414.73469314 6877.0498741 ]]\n"
     ]
    }
   ],
   "source": [
    "print(Array_Profit_mean[:,0,0,:,1])"
   ]
  },
  {
   "cell_type": "code",
   "execution_count": null,
   "metadata": {},
   "outputs": [],
   "source": [
    "def plot_acceptance_profit(Array_Profit_mean, x=[\"0.8\", \"0.83\", \"0.85\", \"0.87\", \"0.9\", \"0.93\", \"0.95\", \"0.97\", \"1.0\", \"1.05\", \"1.1\"], save=False):\n",
    "    name = [\"Rule\", \"Deterministic\", \"Stochastic\", \"Feature\"]\n",
    "    model_colors = ['C3', 'C0', 'C2', 'C1', 'C4']\n",
    "    linestyle = [\"-\", \"-\", \"-\", \"-\", \"--\"]\n",
    "\n",
    "    plt.figure(figsize=(8, 6),dpi=300)\n",
    "\n",
    "    for m in range(0, len(name)):\n",
    "        plt.plot(x, Array_Profit_mean[:, 0, 0, m, 1], label=name[m], color=model_colors[m], linestyle=linestyle[m], linewidth=2.5)\n",
    "\n",
    "    plt.xticks(x)\n",
    "    plt.xlabel('$\\gamma$')\n",
    "    plt.ylabel('Realized Profit [\\u20AC/day]')\n",
    "    #plt.gca().yaxis.set_major_formatter(ScalarFormatter(useOffset=False, useMathText=True))\n",
    "    #plt.gca().yaxis.set_major_formatter('{x:.2f}')  # Set 2 decimals, adjust as needed\n",
    "    plt.tick_params(axis='both', which='both', labelsize=14)  # Adjust the fontsize of the axis ticks here\n",
    "    plt.gca().xaxis.label.set_fontsize(16)  # Adjust the fontsize of the x-axis label here\n",
    "    plt.gca().yaxis.label.set_fontsize(16)  # Adjust the fontsize of the y-axis label here\n",
    "    # Set the y-axis tick formatter\n",
    "    formatter = ScalarFormatter(useMathText=True)\n",
    "    formatter.set_powerlimits((-1, 2))  # Adjust the power limits as needed\n",
    "    plt.gca().yaxis.set_major_formatter(formatter)\n",
    "    plt.gca().yaxis.get_offset_text().set_fontsize(16)  # Set the font size\n",
    "    plt.axvline(x=2, ymin=0, ymax=5000, color='black', linestyle='--')  # Add vertical line at x=5\n",
    "    plt.axvline(x=10, ymin=0, ymax=5000, color='black', linestyle='--')  # Add vertical line at x=5\n",
    "    # Create the legend outside the plot\n",
    "    plt.legend(loc='lower center', ncol=len(Array_Profit_mean[0, 0, 0, :, 1]), bbox_to_anchor=(0.5, -0.25),\n",
    "               prop={'size': 16})  # Adjust the fontsize of the legend here\n",
    "\n",
    "    if save:\n",
    "        plt.savefig(f'Result_plots/Gamma_Profit_plot.png', format=\"png\", bbox_inches='tight')\n",
    "\n",
    "    plt.show()\n"
   ]
  },
  {
   "cell_type": "code",
   "execution_count": null,
   "metadata": {},
   "outputs": [
    {
     "ename": "NameError",
     "evalue": "name 'Array_Profit_mean' is not defined",
     "output_type": "error",
     "traceback": [
      "\u001b[1;31m---------------------------------------------------------------------------\u001b[0m",
      "\u001b[1;31mNameError\u001b[0m                                 Traceback (most recent call last)",
      "Cell \u001b[1;32mIn[6], line 1\u001b[0m\n\u001b[1;32m----> 1\u001b[0m plot_acceptance_profit(Array_Profit_mean,x\u001b[39m=\u001b[39m [\u001b[39m\"\u001b[39m\u001b[39m0.8\u001b[39m\u001b[39m\"\u001b[39m,\u001b[39m\"\u001b[39m\u001b[39m0.83\u001b[39m\u001b[39m\"\u001b[39m,\u001b[39m\"\u001b[39m\u001b[39m0.85\u001b[39m\u001b[39m\"\u001b[39m,\u001b[39m\"\u001b[39m\u001b[39m0.87\u001b[39m\u001b[39m\"\u001b[39m,\u001b[39m\"\u001b[39m\u001b[39m0.9\u001b[39m\u001b[39m\"\u001b[39m,\u001b[39m\"\u001b[39m\u001b[39m0.93\u001b[39m\u001b[39m\"\u001b[39m,\u001b[39m\"\u001b[39m\u001b[39m0.95\u001b[39m\u001b[39m\"\u001b[39m,\u001b[39m\"\u001b[39m\u001b[39m0.97\u001b[39m\u001b[39m\"\u001b[39m,\u001b[39m\"\u001b[39m\u001b[39m1.0\u001b[39m\u001b[39m\"\u001b[39m,\u001b[39m\"\u001b[39m\u001b[39m1.05\u001b[39m\u001b[39m\"\u001b[39m,\u001b[39m\"\u001b[39m\u001b[39m1.1\u001b[39m\u001b[39m\"\u001b[39m], save\u001b[39m=\u001b[39m\u001b[39mTrue\u001b[39;00m)\n",
      "\u001b[1;31mNameError\u001b[0m: name 'Array_Profit_mean' is not defined"
     ]
    }
   ],
   "source": [
    "plot_acceptance_profit(Array_Profit_mean,x= [\"0.8\",\"0.83\",\"0.85\",\"0.87\",\"0.9\",\"0.93\",\"0.95\",\"0.97\",\"1.0\",\"1.05\",\"1.1\"], save=True)"
   ]
  }
 ],
 "metadata": {
  "kernelspec": {
   "display_name": "Python 3",
   "language": "python",
   "name": "python3"
  },
  "language_info": {
   "codemirror_mode": {
    "name": "ipython",
    "version": 3
   },
   "file_extension": ".py",
   "mimetype": "text/x-python",
   "name": "python",
   "nbconvert_exporter": "python",
   "pygments_lexer": "ipython3",
   "version": "3.9.13"
  },
  "orig_nbformat": 4
 },
 "nbformat": 4,
 "nbformat_minor": 2
}
