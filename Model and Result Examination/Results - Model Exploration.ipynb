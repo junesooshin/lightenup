{
 "cells": [
  {
   "attachments": {},
   "cell_type": "markdown",
   "metadata": {},
   "source": [
    "# Model Comparison"
   ]
  },
  {
   "cell_type": "code",
   "execution_count": 1,
   "metadata": {},
   "outputs": [],
   "source": [
    "import numpy as np\n",
    "import pandas as pd\n",
    "import json\n",
    "import os\n",
    "import matplotlib.pyplot as plt\n",
    "import matplotlib.image as mpimg\n",
    "from tabulate import tabulate\n",
    "from PIL import Image\n",
    "from Model_comparison_functions import *"
   ]
  },
  {
   "attachments": {},
   "cell_type": "markdown",
   "metadata": {},
   "source": [
    "Set path:\n"
   ]
  },
  {
   "cell_type": "code",
   "execution_count": 2,
   "metadata": {},
   "outputs": [],
   "source": [
    "desktop_path = os.path.expanduser(\"~/Desktop\")\n",
    "#os.chdir(desktop_path+'\\DTU MSc\\MSc thesis\\git\\lightenup')\n",
    "os.chdir(desktop_path+'\\Thesis')\n",
    "Add_on_path = \"\\\\Results\\\\Model Exploration\\\\\"\n",
    "current_directory = os.getcwd()  # Jupyter file take the current directory as where the jupyter file is located. Different than a .py file..."
   ]
  },
  {
   "attachments": {},
   "cell_type": "markdown",
   "metadata": {},
   "source": [
    "## HA data"
   ]
  },
  {
   "attachments": {},
   "cell_type": "markdown",
   "metadata": {},
   "source": [
    "# Combine different results"
   ]
  },
  {
   "cell_type": "code",
   "execution_count": 3,
   "metadata": {},
   "outputs": [
    {
     "name": "stdout",
     "output_type": "stream",
     "text": [
      "44.26649430853859\n",
      "333.22588140928497\n"
     ]
    }
   ],
   "source": [
    "\n",
    "Add_on_path_list = [\"GA\\\\\",\"HA\\\\\"]\n",
    "Array = np.empty( (1, 1, 88, 5, 2,len(Add_on_path_list) ) )\n",
    "for p,paths in enumerate(Add_on_path_list):\n",
    "\n",
    "    df_Exp_profit = json_to_df(current_directory + Add_on_path + paths +  'Exp_profit.json')\n",
    "    df_RT_profit  = json_to_df(current_directory + Add_on_path + paths + 'RT_profit.json')\n",
    "    #print(df_Exp_profit)\n",
    "    # Setup the arrays\n",
    "    \n",
    "\n",
    "\n",
    "    for col in df_Exp_profit.columns:\n",
    "        \n",
    "        # Create a four dimensional \n",
    "\n",
    "        # (M, D, Model)\n",
    "        \n",
    "        # Assign the month, the day, the model, and each of the \n",
    "\n",
    "        # Extract the 'm', 'd', and 't' values from column name\n",
    "        parts = col.split('_')\n",
    "\n",
    "        m = 0\n",
    "        \n",
    "        f = 1\n",
    "        \n",
    "        d = int(parts[2][3:])\n",
    "\n",
    "\n",
    "\n",
    "        Array[(f-1),(m),(d-1),0,0,p] = df_Exp_profit[col]['rule']\n",
    "        Array[(f-1),(m),(d-1),1,0,p] = df_Exp_profit[col]['det']\n",
    "        Array[(f-1),(m),(d-1),2,0,p] = df_Exp_profit[col]['sto']\n",
    "        Array[(f-1),(m),(d-1),3,0,p] = df_Exp_profit[col]['feature']\n",
    "        #print(df_Exp_profit[col]['feature'])\n",
    "        Array[(f-1),(m),(d-1),4,0,p] = df_Exp_profit[col]['oracle']\n",
    "        \n",
    "        Array[(f-1),(m),(d-1),0,1,p] = df_RT_profit[col]['rule']\n",
    "        Array[(f-1),(m),(d-1),1,1,p] = df_RT_profit[col]['det']\n",
    "        Array[(f-1),(m),(d-1),2,1,p] = df_RT_profit[col]['sto']\n",
    "        Array[(f-1),(m),(d-1),3,1,p] = df_RT_profit[col]['feature']\n",
    "        Array[(f-1),(m),(d-1),4,1,p] = df_RT_profit[col]['oracle']\n",
    "\n",
    "    print(Array[(f-1),(m),24,3,1,p])\n",
    "        \n"
   ]
  },
  {
   "cell_type": "code",
   "execution_count": 4,
   "metadata": {},
   "outputs": [
    {
     "name": "stdout",
     "output_type": "stream",
     "text": [
      "44.26649430853859\n",
      "333.22588140928497\n"
     ]
    }
   ],
   "source": [
    "print(Array[0,0,24,3,1,0])\n",
    "print(Array[0,0,24,3,1,1])"
   ]
  },
  {
   "cell_type": "code",
   "execution_count": 5,
   "metadata": {},
   "outputs": [
    {
     "name": "stdout",
     "output_type": "stream",
     "text": [
      "(1, 1, 88, 5, 2, 2)\n"
     ]
    }
   ],
   "source": [
    "print(np.shape(Array))"
   ]
  },
  {
   "cell_type": "code",
   "execution_count": 6,
   "metadata": {},
   "outputs": [],
   "source": [
    "def plot_profit_Test(Array, Selected_models = ['Rule', 'Deterministic', 'Stochastic', 'Feature','Oracle'], x_axis_label = \"\", x_axis_selection = [0,1,2], x_axis_tick_label = [1,2,3], Selected_Profit = ['Expected', 'Realized'], barwidth = 0.1, ShowEachTestDay = False,save = False):\n",
    "\n",
    "    # Sample data\n",
    "    #Array = np.random.rand(3, 6, 88, 5, 2)\n",
    "    # PlotCase = 'Forecast' , 'Sample Size', ''\n",
    "    #Forecast_names = [1,2,3]\n",
    "    #SampleSize_names = [2,5,7,9,11]\n",
    "    \n",
    "    \n",
    "    # Default settings\n",
    "    color = ['C3', 'C0', 'C2', 'C1']  # Colors for the fourth dimension\n",
    "    Model = ['Rule', 'Deterministic', 'Stochastic', 'Feature']\n",
    "    Profit_labels = ['Expected', 'Realized']  # Fill patterns for the fifth dimension\n",
    "    Profit_patterns = ['', '\\\\']  # Fill patterns for the fifth dimension\n",
    "    # /   - diagonal hatching\n",
    "    # \\   - back diagonal\n",
    "    # |   - vertical\n",
    "    # -   - horizontal\n",
    "    # +   - crossed\n",
    "    # x   - crossed diagonal\n",
    "    # o   - small circle\n",
    "    # O   - large circle\n",
    "    # .   - dots\n",
    "    # *   - stars\n",
    "    bar_count = (len(Selected_models)) * len(Selected_Profit) # Number of bars in each group (5-1)*2\n",
    "    if \"Oracle\" in Selected_models:\n",
    "        linestyle = '--'\n",
    "        linecolor = 'C4'\n",
    "        linelabel = 'Oracle'\n",
    "        bar_count = (len(Selected_models)-1) * len(Selected_Profit) # Number of bars in each group (5-1)*2\n",
    "        \n",
    "\n",
    "    # From Selected_models and Selected_Profit specify necessary settings aligned with the default\n",
    "    model_idx = [i for i, m in enumerate(Model) if m in Selected_models]\n",
    "    models = [Model[i] for i, m in enumerate(Model) if m in Selected_models]\n",
    "    colors = [color[i] for i, m in enumerate(Model) if m in Selected_models]\n",
    "    profit_idx = [i for i, p in enumerate(Profit_labels) if p in Selected_Profit]\n",
    "    fill_patterns_label = [Profit_labels[i] for i, p in enumerate(Profit_labels) if p in Selected_Profit]\n",
    "    fill_patterns = [Profit_patterns[i] for i, p in enumerate(Profit_labels) if p in Selected_Profit]  # Fill patterns for the fifth dimension\n",
    "    \n",
    "    mean_values = np.mean(Array, axis=2)\n",
    "    std_values = np.std(Array, axis=2)\n",
    "\n",
    "    if x_axis_label == \"\":\n",
    "        x_axis_label = '' \n",
    "        xtick_names = 'off'\n",
    "        x_axis = [1]\n",
    "        \n",
    "\n",
    "    else:\n",
    "        x_axis = np.arange(len(x_axis_selection))\n",
    "        xtick_names = x_axis_tick_label\n",
    "\n",
    "    # Fixed settings\n",
    "\n",
    "    y_axis_label = 'Profit [\\u20AC/day]'\n",
    "    test_days = np.arange(Array.shape[2])\n",
    "\n",
    "    legend_labels = models\n",
    "    legend_colors = colors\n",
    "\n",
    "    edgecolor = \"black\"\n",
    "    linewidth = 4\n",
    "    \n",
    "    # Build the bar sizing and spacing\n",
    "    bar_list = [i*0 for i in range(bar_count)]\n",
    "    spacing = barwidth/10\n",
    "    for i in range(bar_count):\n",
    "        if i == 0:\n",
    "            bar_list[i] = -(barwidth * bar_count / 2) + i * barwidth\n",
    "        else:\n",
    "            bar_list[i] = bar_list[i-1] + barwidth\n",
    "        \n",
    "        if i % 2 == 0:\n",
    "            bar_list[i] = bar_list[i] + spacing\n",
    "        \n",
    "    size_around_tick = barwidth * bar_count / 2 + barwidth/2   \n",
    "\n",
    "    print(bar_list)\n",
    "\n",
    "    # Create the plot\n",
    "    fig, ax = plt.subplots(figsize=(8, 6), dpi=100)\n",
    "\n",
    "    # Build the oracle model:\n",
    "\n",
    "    # Plot value of the oracle model\n",
    "    if \"Oracle\" in Selected_models:\n",
    "        mean_value = np.mean(Array[0, 0, :, 4, 1,0])\n",
    "        lines = ax.hlines(mean_value, 0 - size_around_tick + 4 *spacing, len(x_axis) - 1 + size_around_tick, color=linecolor, linestyle=linestyle, linewidth=linewidth)\n",
    "\n",
    "\n",
    "    for x,xaxis  in enumerate(x_axis_selection):\n",
    "        count_j = 0\n",
    "        count_k = 0\n",
    "        for j, color in enumerate(colors):\n",
    "            for k, fill_pattern in enumerate(fill_patterns):\n",
    "                # construct where on the x axis the bar is located\n",
    "\n",
    "                # To get a little bit of spacing after each model\n",
    "                \n",
    "                j_mod = model_idx[j]\n",
    "                k_mod = profit_idx[k]\n",
    "\n",
    "                if x_axis_label == 'Forecasts':\n",
    "                    bar_left = x + bar_list[count_k]\n",
    "                    f = x\n",
    "                    s = 0\n",
    "                    m = 0   \n",
    "\n",
    "                elif x_axis_label == 'Sample size':\n",
    "                    bar_left = x + bar_list[count_k]\n",
    "                    f = 0\n",
    "                    s = x\n",
    "                    m = 0\n",
    "                \n",
    "                elif x_axis_label == 'Model Exploration':\n",
    "                    bar_left = x + bar_list[count_k]\n",
    "                    f = 0\n",
    "                    s = 0\n",
    "                    m = x\n",
    "\n",
    "                else:\n",
    "                    bar_left = bar_list[count_k]\n",
    "                    f = 0\n",
    "                    s = 0\n",
    "                    m = 0\n",
    "\n",
    "\n",
    "                \n",
    "                # Define the height of the bar\n",
    "                bar_height = mean_values[f,s,j_mod,k_mod,m]\n",
    "                error_value = std_values[f,s,j_mod,k_mod,m]\n",
    "\n",
    "                \n",
    "\n",
    "                ax.bar(bar_left, bar_height, width=barwidth, color=color, hatch=fill_pattern, align='edge', edgecolor=edgecolor)\n",
    "\n",
    "                x_position = bar_left + barwidth/2\n",
    "                ax.errorbar(x_position, bar_height, yerr=error_value, fmt='none', ecolor='black', capsize=4)\n",
    "\n",
    "                if ShowEachTestDay == True:\n",
    "                    for d,val in enumerate(test_days):\n",
    "                        #print(\"(\",bar_left,\",\",Array[x,2,d,j,k],\")\")\n",
    "                        \n",
    "                        ax.scatter(x_position,Array[f,s,j_mod,k_mod],s=2, edgecolor=edgecolor, color=color)\n",
    "\n",
    "                count_k = count_k + 1\n",
    "            count_j = count_j + 1\n",
    "\n",
    "\n",
    "\n",
    "\n",
    "    # Set the x-axis ticks and tick labels\n",
    "    \n",
    "    if xtick_names != 'off':\n",
    "        ax.set_xticks(x_axis)\n",
    "        ax.set_xticklabels(xtick_names, fontsize=16)\n",
    "        ax.set_xlabel(x_axis_label, fontsize=16, labelpad=10)\n",
    "    else:\n",
    "        # Remove x axis\n",
    "            \n",
    "        #ax.spines['bottom'].set_visible(False)\n",
    "        ax.set_xticks([])\n",
    "        ax.set_xlabel('')\n",
    "\n",
    "    # Set the y-axis tick size\n",
    "    ax.tick_params(axis='y', which='major', labelsize=20)\n",
    "    \n",
    "    ax.set_ylabel(y_axis_label, fontsize=16, labelpad=10)\n",
    "    # Set the y-axis tick formatter\n",
    "    formatter = ScalarFormatter(useMathText=True)\n",
    "    formatter.set_powerlimits((-1, 2))  # Adjust the power limits as needed\n",
    "    plt.gca().yaxis.set_major_formatter(formatter)\n",
    "    ax.yaxis.get_offset_text().set_fontsize(16)  # Set the font size\n",
    "    ax.yaxis.set_tick_params(labelsize=14)\n",
    "    ax.xaxis.set_tick_params(labelsize=14)\n",
    "\n",
    "    # Create legend for the bars\n",
    "    legend_handles = []\n",
    "\n",
    "    for label, color in zip(legend_labels, legend_colors):\n",
    "        rect = plt.Rectangle((0, 0), 1, 1, color=color, label=label)\n",
    "        rect.set_edgecolor(edgecolor)\n",
    "        legend_handles.append(rect)\n",
    "\n",
    "\n",
    "\n",
    "    for label, pattern in zip(fill_patterns_label, fill_patterns): \n",
    "        legend_handles.append(plt.Rectangle((0, 0), 1, 1, facecolor='white', edgecolor=edgecolor,  hatch=pattern, label=label))\n",
    "\n",
    "    if \"Oracle\" in Selected_models:\n",
    "        # Create legend for the horizontal line\n",
    "        legend_handles.append(plt.Line2D([0], [0], color=linecolor, linestyle=linestyle, label=linelabel,linewidth=linewidth))\n",
    "    \n",
    "    # Show the legend\n",
    "    ax.legend(handles=legend_handles,bbox_to_anchor=(1.02, 0.9), loc='upper left',prop={'size': 14})\n",
    "\n",
    "\n",
    "\n",
    "    if save == True:\n",
    "        plt.savefig(f'Result_plots/Profit_Bar_plot.pdf',format=\"pdf\", bbox_inches='tight')\n",
    "    # Show the plot\n",
    "    plt.show()"
   ]
  },
  {
   "cell_type": "code",
   "execution_count": 8,
   "metadata": {},
   "outputs": [
    {
     "name": "stdout",
     "output_type": "stream",
     "text": [
      "[-0.76, -0.36, 0.08000000000000004, 0.4800000000000001]\n"
     ]
    },
    {
     "data": {
      "image/png": "[encoded data removed]",
      "text/plain": [
       "<Figure size 800x600 with 1 Axes>"
      ]
     },
     "metadata": {},
     "output_type": "display_data"
    }
   ],
   "source": [
    "plot_profit_Test(Array, Selected_models = ['Stochastic', 'Feature'], x_axis_label = \"Model Exploration\", x_axis_selection = [0,1], x_axis_tick_label = [\"GA\",\"HA\"], Selected_Profit = ['Expected', 'Realized'], barwidth = 0.4,  ShowEachTestDay = False,save=True)"
   ]
  }
 ],
 "metadata": {
  "kernelspec": {
   "display_name": "Python 3",
   "language": "python",
   "name": "python3"
  },
  "language_info": {
   "codemirror_mode": {
    "name": "ipython",
    "version": 3
   },
   "file_extension": ".py",
   "mimetype": "text/x-python",
   "name": "python",
   "nbconvert_exporter": "python",
   "pygments_lexer": "ipython3",
   "version": "3.9.13"
  },
  "orig_nbformat": 4
 },
 "nbformat": 4,
 "nbformat_minor": 2
}
