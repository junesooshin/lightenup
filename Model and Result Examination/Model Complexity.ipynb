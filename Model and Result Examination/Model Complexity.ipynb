{
 "cells": [
  {
   "attachments": {},
   "cell_type": "markdown",
   "metadata": {},
   "source": [
    "# Model Complexity"
   ]
  },
  {
   "attachments": {},
   "cell_type": "markdown",
   "metadata": {},
   "source": [
    "# Deterministic and Oracle model"
   ]
  },
  {
   "attachments": {},
   "cell_type": "markdown",
   "metadata": {},
   "source": [
    "### Variables"
   ]
  },
  {
   "attachments": {},
   "cell_type": "markdown",
   "metadata": {},
   "source": [
    "Variables:\n",
    "- b^{FD2\\uparrow}_{t},     \n",
    "- b^{FD2\\downarrow}_{t},    \n",
    "- b^{FD1\\uparrow}_{t},    \n",
    "- b^{FD1\\downarrow}_{t},    \n",
    "- b^{DA\\uparrow}_{t},    \n",
    "- b^{DA\\downarrow}_{t},    \n",
    "- p^{FD2\\uparrow}_{t},     \n",
    "- p^{FD2\\downarrow}_{t},    \n",
    "- p^{FD1\\uparrow}_{t},    \n",
    "- p^{FD1\\downarrow}_{t},    \n",
    "- p^{dch}_{t},    \n",
    "- p^{ch}_{t},    \n",
    "- soc_{t}\n",
    "- R^{\\text{FD2}}_{t},\n",
    "- R^{\\text{DA}}_{t},\n",
    "- R^{\\text{FD1}}_{t},\n",
    "- C^{\\text{Deg}}_{t}\n",
    "\n",
    "\n",
    "So 6 decision variables and 11 slack variables and then since they are indexed it is:\n"
   ]
  },
  {
   "cell_type": "code",
   "execution_count": 2,
   "metadata": {},
   "outputs": [
    {
     "name": "stdout",
     "output_type": "stream",
     "text": [
      "Total number of variables: 1584\n"
     ]
    }
   ],
   "source": [
    "decision_variables = 6\n",
    "slack = 11\n",
    "t = 24\n",
    "var_det = decision_variables*slack*t\n",
    "print(\"Total number of variables:\", var_det)"
   ]
  },
  {
   "attachments": {},
   "cell_type": "markdown",
   "metadata": {},
   "source": [
    "### Constraints"
   ]
  },
  {
   "cell_type": "code",
   "execution_count": 3,
   "metadata": {},
   "outputs": [
    {
     "name": "stdout",
     "output_type": "stream",
     "text": [
      "Total number of constraints: 1152\n"
     ]
    }
   ],
   "source": [
    "equality_con = 12\n",
    "inequality_con = 4\n",
    "con_det = equality_con*inequality_con*t\n",
    "print(\"Total number of constraints:\", con_det)"
   ]
  },
  {
   "attachments": {},
   "cell_type": "markdown",
   "metadata": {},
   "source": [
    "# Stochastic model"
   ]
  },
  {
   "attachments": {},
   "cell_type": "markdown",
   "metadata": {},
   "source": [
    "### Variables:"
   ]
  },
  {
   "attachments": {},
   "cell_type": "markdown",
   "metadata": {},
   "source": [
    "\n",
    "- b^{FD2\\uparrow}_{t},     \n",
    "- b^{FD2\\downarrow}_{t},    \n",
    "- b^{FD1\\uparrow}_{t,\\omega^S2},    \n",
    "- b^{FD1\\downarrow}_{t,\\omega^S2},    \n",
    "- b^{DA\\uparrow}_{t,\\omega^S1},    \n",
    "- b^{DA\\downarrow}_{t,\\omega^S1},    \n",
    "- p^{FD2\\uparrow}_{t},     \n",
    "- p^{FD2\\downarrow}_{t},    \n",
    "- p^{FD1\\uparrow}_{t},\\omega^S2,    \n",
    "- p^{FD1\\downarrow}_{t,\\omega^S2},    \n",
    "- p^{dch}_{t,\\omega^S3},    \n",
    "- p^{ch}_{t,\\omega^S3},    \n",
    "- soc_{t,\\omega^S3}\n",
    "- R^{\\text{FD2}}_{t},\n",
    "- R^{\\text{DA}}_{t},\n",
    "- R^{\\text{FD1}}_{t},\n",
    "- C^{\\text{Deg}}_{t}\n",
    "\n",
    "\n",
    "So 6 decision variables and 11 slack variables and then since they are indexed it is:\n"
   ]
  },
  {
   "cell_type": "code",
   "execution_count": 4,
   "metadata": {},
   "outputs": [
    {
     "name": "stdout",
     "output_type": "stream",
     "text": [
      "Total number of variables: 14304\n"
     ]
    }
   ],
   "source": [
    "x_t = 2\n",
    "x_t_S1 = 2\n",
    "x_t_S2 = 2\n",
    "x = 6\n",
    "S = 10\n",
    "slack_t = 6\n",
    "slack_t_S2 = 2\n",
    "slack_t_S3 = 2\n",
    "n = 6\n",
    "t = 24\n",
    "S1 = n\n",
    "S2 = n*n\n",
    "S3 = n*n*n\n",
    "var_sto = t*( x_t + slack_t + n*x_t_S1 + n**2*(x_t_S1 + slack_t_S2) + n**3*slack_t_S3 )\n",
    "print(\"Total number of variables:\", var_sto)"
   ]
  },
  {
   "attachments": {},
   "cell_type": "markdown",
   "metadata": {},
   "source": [
    "### Constraints"
   ]
  },
  {
   "cell_type": "code",
   "execution_count": 5,
   "metadata": {},
   "outputs": [
    {
     "name": "stdout",
     "output_type": "stream",
     "text": [
      "Total number of constraints: 52224\n"
     ]
    }
   ],
   "source": [
    "equality_con_t = 4\n",
    "equality_con_t_S1 = 2\n",
    "equality_con_t_S3 = 6\n",
    "inequality_con_t_S3 = 4\n",
    "con_sto = t*( equality_con_t + n*equality_con_t_S1 + n**3*(equality_con_t_S3 + inequality_con_t_S3)  ) \n",
    "print(\"Total number of constraints:\", con_sto)"
   ]
  },
  {
   "attachments": {},
   "cell_type": "markdown",
   "metadata": {},
   "source": [
    "# Feature-Driven"
   ]
  },
  {
   "attachments": {},
   "cell_type": "markdown",
   "metadata": {},
   "source": [
    "\n",
    "- b^{FD2\\uparrow}_{t},     \n",
    "- b^{FD2\\downarrow}_{t},    \n",
    "- b^{FD1\\uparrow}_{t,\\omega^S2},    \n",
    "- b^{FD1\\downarrow}_{t,\\omega^S2},    \n",
    "- b^{DA\\uparrow}_{t,\\omega^S1},    \n",
    "- b^{DA\\downarrow}_{t,\\omega^S1},    \n",
    "- p^{FD2\\uparrow}_{t},     \n",
    "- p^{FD2\\downarrow}_{t},    \n",
    "- p^{FD1\\uparrow}_{t},\\omega^S2,    \n",
    "- p^{FD1\\downarrow}_{t,\\omega^S2},    \n",
    "- p^{dch}_{t,\\omega^S3},    \n",
    "- p^{ch}_{t,\\omega^S3},    \n",
    "- soc_{t,\\omega^S3}\n",
    "- R^{\\text{FD2}}_{t},\n",
    "- R^{\\text{DA}}_{t},\n",
    "- R^{\\text{FD1}}_{t},\n",
    "- C^{\\text{Deg}}_{t}\n",
    "- q^{FD2\\uparrow}_f,\n",
    "- q^{FD2\\downarrow}_f,\n",
    "- q^{FD1\\uparrow}_f,\n",
    "- q^{FD1\\downarrow}_f,\n",
    "- q^{DA\\uparrow}_f,\n",
    "- q^{DA\\downarrow}_f\n",
    "\n",
    "\n",
    "So 6 decision variables and 11 slack variables and then since they are indexed it is:\n"
   ]
  },
  {
   "attachments": {},
   "cell_type": "markdown",
   "metadata": {},
   "source": [
    "### Variables"
   ]
  },
  {
   "cell_type": "code",
   "execution_count": 6,
   "metadata": {},
   "outputs": [
    {
     "name": "stdout",
     "output_type": "stream",
     "text": [
      "Total number of variables: 2334\n"
     ]
    }
   ],
   "source": [
    "x = 6\n",
    "S = 16\n",
    "F = 5\n",
    "n = 6\n",
    "t = 24\n",
    "\n",
    "var_Feature = F*x + t*n*S\n",
    "\n",
    "print(\"Total number of variables:\", var_Feature)\n"
   ]
  },
  {
   "attachments": {},
   "cell_type": "markdown",
   "metadata": {},
   "source": [
    "### Constraints"
   ]
  },
  {
   "cell_type": "code",
   "execution_count": 7,
   "metadata": {},
   "outputs": [
    {
     "name": "stdout",
     "output_type": "stream",
     "text": [
      "Total number of constraints: 3168\n"
     ]
    }
   ],
   "source": [
    "phi = 12 + 6\n",
    "psi = 4\n",
    "con_Feature = t*n*(phi+psi)\n",
    "print(\"Total number of constraints:\", con_Feature )"
   ]
  },
  {
   "attachments": {},
   "cell_type": "markdown",
   "metadata": {},
   "source": [
    "How much do they increase with increasing n:\n"
   ]
  },
  {
   "cell_type": "code",
   "execution_count": 24,
   "metadata": {},
   "outputs": [
    {
     "name": "stdout",
     "output_type": "stream",
     "text": [
      "\\begin{table}[ht]\n",
      "\\centering\n",
      "\\caption{Constraint($\\mathcal{D}$)}\n",
      "\\label{tab:Constraint_table}\n",
      "\\begin{tabular}{|c|c|c|c|}\n",
      "\\hline\n",
      "$\\mathcal{D}$ & Deterministic & Stochastic & Feature \\\\\n",
      "\\hline\n",
      "5 & 1584 & 8832 & 1950 \\\\\n",
      "10 & 1584 & 58272 & 3870 \\\\\n",
      "15 & 1584 & 184512 & 5790 \\\\\n",
      "20 & 1584 & 423552 & 7710 \\\\\n",
      "\\hline\n",
      "\\end{tabular}\n",
      "\\end{table}\n"
     ]
    }
   ],
   "source": [
    "print(\"\\\\begin{table}[ht]\")\n",
    "print(\"\\centering\")\n",
    "print(\"\\caption{Constraint($\\mathcal{D}$)}\")\n",
    "print(\"\\label{tab:Constraint_table}\")\n",
    "print(\"\\\\begin{tabular}{|c|c|c|c|}\")\n",
    "print(\"\\\\hline\")\n",
    "print(\"$\\mathcal{D}$ & Deterministic & Stochastic & Feature \\\\\\\\\")\n",
    "print(\"\\\\hline\")\n",
    "\n",
    "for n in range(5, 21, 5):\n",
    "    var_det = decision_variables*slack*t\n",
    "    var_sto = t*( x_t + slack_t + n*x_t_S1 + n**2*(x_t_S1 + slack_t_S2) + n**3*slack_t_S3 )\n",
    "    var_Feature = F*x + t*n*S\n",
    "\n",
    "    print(f\"{n} & {var_det} & {var_sto} & {var_Feature} \\\\\\\\\")\n",
    "    \n",
    "print(\"\\\\hline\")\n",
    "print(\"\\\\end{tabular}\")\n",
    "print(\"\\\\end{table}\")\n"
   ]
  },
  {
   "cell_type": "code",
   "execution_count": 28,
   "metadata": {},
   "outputs": [
    {
     "name": "stdout",
     "output_type": "stream",
     "text": [
      "\\begin{table}[ht]\n",
      "\\centering\n",
      "\\caption{Variables($\\mathcal{D}$) and Constraints($\\mathcal{D}$)}\n",
      "\\label{tab:Variables_Constraint_table}\n",
      "\\begin{tabular}{|c|c|c|c|c|c|c|}\n",
      "\\hline\n",
      "\\multirow{2}{*}{$\\mathcal{D}$} & \\multicolumn{3}{c|}{Variables} & \\multicolumn{3}{c|}{Constraints} \\\\\n",
      "\\cline{2-7}\n",
      "& Deterministic & Stochastic & Feature & Deterministic & Stochastic & Feature \\\\\n",
      "\\hline\n",
      "5  & 1584 & 8832 & 1950 & 1152 & 30336 & 2640 \\\\\n",
      "10  & 1584 & 58272 & 3870 & 1152 & 240576 & 5280 \\\\\n",
      "15  & 1584 & 184512 & 5790 & 1152 & 810816 & 7920 \\\\\n",
      "20  & 1584 & 423552 & 7710 & 1152 & 1921056 & 10560 \\\\\n",
      "\\hline\n",
      "\\end{tabular}\n",
      "\\end{table}\n"
     ]
    }
   ],
   "source": [
    "print(\"\\\\begin{table}[ht]\")\n",
    "print(\"\\centering\")\n",
    "print(\"\\caption{Variables($\\mathcal{D}$) and Constraints($\\mathcal{D}$)}\")\n",
    "print(\"\\label{tab:Variables_Constraint_table}\")\n",
    "print(\"\\\\begin{tabular}{|c|c|c|c|c|c|c|}\")\n",
    "print(\"\\\\hline\")\n",
    "print(\"\\multirow{2}{*}{$\\mathcal{D}$} & \\multicolumn{3}{c|}{Variables} & \\multicolumn{3}{c|}{Constraints} \\\\\\\\\")\n",
    "print(\"\\cline{2-7}\")\n",
    "print(\"& Deterministic & Stochastic & Feature & Deterministic & Stochastic & Feature \\\\\\\\\")\n",
    "print(\"\\\\hline\")\n",
    "\n",
    "for n in range(5, 21, 5):\n",
    "    var_det = decision_variables*slack*t\n",
    "    var_sto = t*( x_t + slack_t + n*x_t_S1 + n**2*(x_t_S1 + slack_t_S2) + n**3*slack_t_S3 )\n",
    "    var_Feature = F*x + t*n*S\n",
    "    con_det = equality_con * inequality_con * t\n",
    "    con_sto = t * (equality_con_t + n * equality_con_t_S1 + n ** 3 * (equality_con_t_S3 + inequality_con_t_S3))\n",
    "    con_Feature = t * n * (phi + psi)\n",
    "\n",
    "    print(f\"{n}  & {var_det} & {var_sto} & {var_Feature} & {con_det} & {con_sto} & {con_Feature} \\\\\\\\\")\n",
    "    \n",
    "print(\"\\\\hline\")\n",
    "print(\"\\\\end{tabular}\")\n",
    "print(\"\\\\end{table}\")\n"
   ]
  },
  {
   "cell_type": "code",
   "execution_count": null,
   "metadata": {},
   "outputs": [],
   "source": []
  }
 ],
 "metadata": {
  "kernelspec": {
   "display_name": "Python 3",
   "language": "python",
   "name": "python3"
  },
  "language_info": {
   "codemirror_mode": {
    "name": "ipython",
    "version": 3
   },
   "file_extension": ".py",
   "mimetype": "text/x-python",
   "name": "python",
   "nbconvert_exporter": "python",
   "pygments_lexer": "ipython3",
   "version": "3.9.13"
  },
  "orig_nbformat": 4
 },
 "nbformat": 4,
 "nbformat_minor": 2
}
