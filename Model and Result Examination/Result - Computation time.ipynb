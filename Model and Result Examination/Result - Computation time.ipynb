{
 "cells": [
  {
   "attachments": {},
   "cell_type": "markdown",
   "metadata": {},
   "source": [
    "# Model Comparison - Sample size"
   ]
  },
  {
   "cell_type": "code",
   "execution_count": 4,
   "metadata": {},
   "outputs": [],
   "source": [
    "import numpy as np\n",
    "import pandas as pd\n",
    "import json\n",
    "import os\n",
    "import matplotlib.pyplot as plt\n",
    "import matplotlib.image as mpimg\n",
    "from tabulate import tabulate\n",
    "from matplotlib.ticker import ScalarFormatter\n",
    "from PIL import Image\n",
    "from Model_comparison_functions import *"
   ]
  },
  {
   "attachments": {},
   "cell_type": "markdown",
   "metadata": {},
   "source": [
    "Set path:\n",
    "Two paths here.\n",
    " -  One comparing both stochastic and Feature\n",
    " - Another looking at bigger samples when Feature increases\n"
   ]
  },
  {
   "attachments": {},
   "cell_type": "markdown",
   "metadata": {},
   "source": [
    "### For Stochastic"
   ]
  },
  {
   "cell_type": "code",
   "execution_count": 5,
   "metadata": {},
   "outputs": [],
   "source": [
    "desktop_path = os.path.expanduser(\"~/Desktop\")\n",
    "#os.chdir(desktop_path+'\\DTU MSc\\MSc thesis\\git\\lightenup')\n",
    "os.chdir(desktop_path+'\\Thesis')\n",
    "\n",
    "current_directory = os.getcwd()  # Jupyter file take the current directory as where the jupyter file is located. Different than a .py file..."
   ]
  },
  {
   "cell_type": "code",
   "execution_count": 6,
   "metadata": {},
   "outputs": [],
   "source": [
    "Add_on_path = \"\\\\Results\\\\Stochastic_Sample_size\\\\5\\\\\"\n",
    "Array_Acceptance,Array_Bid,Array_Comp_sto_5 = Collect_bid_results(current_directory,Add_on_path,1,5,[\"1.0\"],models=[\"Sto\"])"
   ]
  },
  {
   "cell_type": "code",
   "execution_count": 7,
   "metadata": {},
   "outputs": [],
   "source": [
    "Add_on_path = \"\\\\Results\\\\Stochastic_Sample_size\\\\10\\\\\"\n",
    "Array_Acceptance,Array_Bid,Array_Comp_sto_10 = Collect_bid_results(current_directory,Add_on_path,1,10,[\"1.0\"],models=[\"Sto\"])"
   ]
  },
  {
   "cell_type": "markdown",
   "metadata": {},
   "source": [
    "# For Feature"
   ]
  },
  {
   "cell_type": "code",
   "execution_count": 8,
   "metadata": {},
   "outputs": [],
   "source": [
    "desktop_path = os.path.expanduser(\"~/Desktop\")\n",
    "#os.chdir(desktop_path+'\\DTU MSc\\MSc thesis\\git\\lightenup')\n",
    "os.chdir(desktop_path+'\\Thesis')\n",
    "\n",
    "current_directory = os.getcwd()  # Jupyter file take the current directory as where the jupyter file is located. Different than a .py file..."
   ]
  },
  {
   "cell_type": "code",
   "execution_count": 10,
   "metadata": {},
   "outputs": [],
   "source": [
    "Add_on_path = \"\\\\Results\\\\\\Feature_Sample_size\\\\GA\\\\\"\n",
    "Array_Acceptance,Array_Bid,Array_Comp_fea_5 = Collect_bid_results(current_directory,Add_on_path,1,5,[\"1.0\"],models=[\"Feature\"])"
   ]
  },
  {
   "cell_type": "code",
   "execution_count": 11,
   "metadata": {},
   "outputs": [],
   "source": [
    "Add_on_path = \"\\\\Results\\\\\\Feature_Sample_size\\\\GA\\\\\"\n",
    "Array_Acceptance,Array_Bid,Array_Comp_fea_10 = Collect_bid_results(current_directory,Add_on_path,1,10,[\"1.0\"],models=[\"Feature\"])"
   ]
  },
  {
   "cell_type": "markdown",
   "metadata": {},
   "source": [
    "# Table format"
   ]
  },
  {
   "cell_type": "code",
   "execution_count": 12,
   "metadata": {},
   "outputs": [
    {
     "name": "stdout",
     "output_type": "stream",
     "text": [
      "[['$\\\\mathcal{D} = 5', 0.16779720000000006, 1.2030075999999998], ['$\\\\mathcal{D} = 10$', 0.34920919999999994, 7.979718500000001]]\n"
     ]
    }
   ],
   "source": [
    "lst = [\"$\\mathcal{D} = 5\",\n",
    "       \"$\\mathcal{D} = 10$\"\n",
    "]\n",
    "\n",
    "result_summary = [[lst[0]] + [np.mean(Array_Comp_fea_5[0,:,0]), np.mean(Array_Comp_sto_5[0,:,0]) ],\n",
    "                  [lst[1]] + [np.mean(Array_Comp_fea_10[0,:,0]), np.mean(Array_Comp_sto_10[0,:,0]) ]\n",
    "                  ]\n",
    "print(result_summary)"
   ]
  },
  {
   "cell_type": "code",
   "execution_count": 13,
   "metadata": {},
   "outputs": [
    {
     "name": "stdout",
     "output_type": "stream",
     "text": [
      "[['$\\\\mathcal{D} = 5', 0.16779720000000006, 1.2030075999999998], ['$\\\\mathcal{D} = 10$', 0.34920919999999994, 7.979718500000001]]\n",
      "+--------------------+-----------+--------------+\n",
      "|                    |   Feature |   Stochastic |\n",
      "+====================+===========+==============+\n",
      "| $\\mathcal{D} = 5   |  0.167797 |      1.20301 |\n",
      "+--------------------+-----------+--------------+\n",
      "| $\\mathcal{D} = 10$ |  0.349209 |      7.97972 |\n",
      "+--------------------+-----------+--------------+\n",
      "\\begin{table}[H]\n",
      "\\centering\n",
      "\\caption{Average realized Profit(in $\\euro/day$) based on forecast(perfect and base case) and on acceptance(volume based and 100 \\% accepted assumption)}\n",
      "\\label{tab:Forecast_acceptance}\n",
      "\\begin{tabular}{|l|c|c|}\n",
      "\\hline\n",
      " & Feature & Stochastic \\\\\n",
      "\\hline\n",
      "$\\mathcal{D} = 5 & 0.16779720000000006 & 1.2030075999999998 \\\\\n",
      "$\\mathcal{D} = 10$ & 0.34920919999999994 & 7.979718500000001 \\\\\n",
      "\\hline\n",
      "\\end{tabular}\n",
      "\\end{table}\n"
     ]
    }
   ],
   "source": [
    "\n",
    "print(result_summary)\n",
    "headers = [ \"Feature\",\"Stochastic\"]\n",
    "table = tabulate(result_summary, headers, tablefmt=\"grid\")\n",
    "print(table)\n",
    "# Generate LaTeX table code\n",
    "table_code = \"\\\\begin{table}[H]\\n\"\n",
    "table_code += \"\\\\centering\\n\"\n",
    "table_code += \"\\\\caption{Average realized Profit(in $\\euro/day$) based on forecast(perfect and base case) and on acceptance(volume based and 100 \\% accepted assumption)}\\n\"\n",
    "table_code += \"\\\\label{tab:Forecast_acceptance}\\n\"\n",
    "table_code += \"\\\\begin{tabular}{|\" + \"|\".join([\"l\"] + [\"c\"] * (len(headers))) + \"|}\\n\"\n",
    "table_code += \"\\\\hline\\n\"\n",
    "table_code += \" & \" + \" & \".join(headers) + \" \\\\\\\\\\n\"\n",
    "table_code += \"\\\\hline\\n\"\n",
    "\n",
    "for row in result_summary:\n",
    "    table_code += \" & \".join(str(item) for item in row) + \" \\\\\\\\\\n\"\n",
    "\n",
    "table_code += \"\\\\hline\\n\"\n",
    "table_code += \"\\\\end{tabular}\\n\"\n",
    "table_code += \"\\\\end{table}\"\n",
    "\n",
    "print(table_code)\n"
   ]
  }
 ],
 "metadata": {
  "kernelspec": {
   "display_name": "Python 3",
   "language": "python",
   "name": "python3"
  },
  "language_info": {
   "codemirror_mode": {
    "name": "ipython",
    "version": 3
   },
   "file_extension": ".py",
   "mimetype": "text/x-python",
   "name": "python",
   "nbconvert_exporter": "python",
   "pygments_lexer": "ipython3",
   "version": "3.9.13"
  },
  "orig_nbformat": 4
 },
 "nbformat": 4,
 "nbformat_minor": 2
}
