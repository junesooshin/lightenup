{
 "cells": [
  {
   "attachments": {},
   "cell_type": "markdown",
   "metadata": {},
   "source": [
    "# Trying to play around with forgetting factor"
   ]
  },
  {
   "cell_type": "code",
   "execution_count": 2,
   "metadata": {},
   "outputs": [],
   "source": [
    "import numpy as np\n",
    "import matplotlib.pyplot as plt\n",
    "import pandas as pd\n",
    "import os"
   ]
  },
  {
   "cell_type": "code",
   "execution_count": 3,
   "metadata": {},
   "outputs": [
    {
     "name": "stdout",
     "output_type": "stream",
     "text": [
      "c:\\Users\\Daniel  BV\\Desktop\\Thesis\\lightenup\\Processed_data\\\n"
     ]
    }
   ],
   "source": [
    "desktop = os.path.join(os.path.join(os.environ['USERPROFILE']), 'Desktop') \n",
    "This_file_path = os.getcwd()\n",
    "total_string_len = len(This_file_path)\n",
    "\n",
    "string_len_to_remove = len(\"Data Examination\")\n",
    "\n",
    "path = This_file_path[0:(total_string_len-string_len_to_remove)]\n",
    "path_processed_data = path + \"Processed_data\\\\\"\n",
    "print(path_processed_data)"
   ]
  },
  {
   "attachments": {},
   "cell_type": "markdown",
   "metadata": {},
   "source": [
    "### Loading data"
   ]
  },
  {
   "cell_type": "code",
   "execution_count": 4,
   "metadata": {},
   "outputs": [
    {
     "name": "stdout",
     "output_type": "stream",
     "text": [
      "(10920, 12)\n",
      "(24, 455, 12)\n"
     ]
    }
   ],
   "source": [
    "data = pd.read_csv(path_processed_data + 'real.csv') # Change path\n",
    "data = data.fillna(0)\n",
    "data_reshaped = np.reshape(data, (24, 90+365,12),order ='F') # F to ensure the correct reshaping.\n",
    "\n",
    "d= 10\n",
    "print(np.shape(data))\n",
    "print(np.shape(data_reshaped))\n",
    "#print(data_reshaped[(0):(24),d,2])\n",
    "#print(data[\"FD1_down\"].loc[(0+d*24):(24+d*24-1)])\n"
   ]
  },
  {
   "cell_type": "code",
   "execution_count": 24,
   "metadata": {},
   "outputs": [
    {
     "name": "stdout",
     "output_type": "stream",
     "text": [
      "[[0.4  0.15 0.15 0.15 0.15]\n",
      " [0.15 0.4  0.15 0.15 0.15]\n",
      " [0.15 0.15 0.4  0.15 0.15]\n",
      " [0.15 0.15 0.15 0.4  0.15]\n",
      " [0.15 0.15 0.15 0.15 0.4 ]]\n"
     ]
    }
   ],
   "source": [
    "\n",
    "import numpy as np\n",
    "\n",
    "val_diag = 0.4\n",
    "row_col = 5\n",
    "val_non_diag = (1 - val_diag) / (row_col - 1)\n",
    "\n",
    "# Create the matrix with val_non_diag on non-diagonal elements\n",
    "matrix = np.full((row_col, row_col), val_non_diag)\n",
    "\n",
    "# Set the diagonal elements to val_diag\n",
    "np.fill_diagonal(matrix, val_diag)\n",
    "\n",
    "print(matrix)\n"
   ]
  },
  {
   "cell_type": "code",
   "execution_count": 10,
   "metadata": {},
   "outputs": [
    {
     "data": {
      "text/plain": [
       "array([[0.12, 0.02, 0.02, 0.02, 0.02],\n",
       "       [0.02, 0.12, 0.02, 0.02, 0.02],\n",
       "       [0.02, 0.02, 0.12, 0.02, 0.02],\n",
       "       [0.02, 0.02, 0.02, 0.12, 0.02],\n",
       "       [0.02, 0.02, 0.02, 0.02, 0.12]])"
      ]
     },
     "execution_count": 10,
     "metadata": {},
     "output_type": "execute_result"
    }
   ],
   "source": [
    "matrix/np.sum(matrix)"
   ]
  },
  {
   "cell_type": "code",
   "execution_count": 19,
   "metadata": {},
   "outputs": [
    {
     "name": "stdout",
     "output_type": "stream",
     "text": [
      "[[0.25 0.15 0.15 0.15 0.15 0.15]\n",
      " [0.15 0.25 0.15 0.15 0.15 0.15]\n",
      " [0.15 0.15 0.25 0.15 0.15 0.15]\n",
      " [0.15 0.15 0.15 0.25 0.15 0.15]\n",
      " [0.15 0.15 0.15 0.15 0.25 0.15]\n",
      " [0.15 0.15 0.15 0.15 0.15 0.25]]\n"
     ]
    }
   ],
   "source": [
    "import numpy as np\n",
    "\n",
    "val_diag = 0.25\n",
    "row_col = 6\n",
    "val_non_diag = (1 - val_diag) / (row_col - 1)\n",
    "\n",
    "# Create the matrix with val_non_diag on non-diagonal elements\n",
    "matrix = np.full((row_col, row_col), val_non_diag)\n",
    "\n",
    "# Set the diagonal elements to val_diag\n",
    "FD2_DA = np.fill_diagonal(matrix, val_diag)\n",
    "\n",
    "print(matrix)"
   ]
  },
  {
   "cell_type": "code",
   "execution_count": 29,
   "metadata": {},
   "outputs": [
    {
     "name": "stdout",
     "output_type": "stream",
     "text": [
      "[[0.3  0.14 0.14 0.14 0.14 0.14]\n",
      " [0.14 0.3  0.14 0.14 0.14 0.14]\n",
      " [0.14 0.14 0.3  0.14 0.14 0.14]\n",
      " [0.14 0.14 0.14 0.3  0.14 0.14]\n",
      " [0.14 0.14 0.14 0.14 0.3  0.14]\n",
      " [0.14 0.14 0.14 0.14 0.14 0.3 ]]\n"
     ]
    }
   ],
   "source": [
    "import numpy as np\n",
    "\n",
    "val_diag = 0.3\n",
    "row_col = 6\n",
    "val_non_diag = (1 - val_diag) / (row_col - 1)\n",
    "\n",
    "# Create the matrix with val_non_diag on non-diagonal elements\n",
    "DA_FD1 = np.full((row_col, row_col), val_non_diag)\n",
    "\n",
    "# Set the diagonal elements to val_diag\n",
    "np.fill_diagonal(DA_FD1, val_diag)\n",
    "\n",
    "print(DA_FD1)"
   ]
  },
  {
   "cell_type": "code",
   "execution_count": 30,
   "metadata": {},
   "outputs": [
    {
     "name": "stdout",
     "output_type": "stream",
     "text": [
      "[[0.3  0.14 0.14 0.14 0.14 0.14]\n",
      " [0.14 0.3  0.14 0.14 0.14 0.14]\n",
      " [0.14 0.14 0.3  0.14 0.14 0.14]\n",
      " [0.14 0.14 0.14 0.3  0.14 0.14]\n",
      " [0.14 0.14 0.14 0.14 0.3  0.14]\n",
      " [0.14 0.14 0.14 0.14 0.14 0.3 ]]\n"
     ]
    }
   ],
   "source": [
    "import numpy as np\n",
    "\n",
    "val_diag = 0.3\n",
    "row_col = 6\n",
    "val_non_diag = (1 - val_diag) / (row_col - 1)\n",
    "\n",
    "# Create the matrix with val_non_diag on non-diagonal elements\n",
    "DA_FD1 = np.full((row_col, row_col), val_non_diag)\n",
    "\n",
    "# Set the diagonal elements to val_diag\n",
    "np.fill_diagonal(DA_FD1, val_diag)\n",
    "\n",
    "print(DA_FD1)"
   ]
  },
  {
   "cell_type": "code",
   "execution_count": 8,
   "metadata": {},
   "outputs": [
    {
     "name": "stdout",
     "output_type": "stream",
     "text": [
      "[[0.3 0.3 0.3 0.3 0.3 0.3]\n",
      " [0.3 0.3 0.3 0.3 0.3 0.3]\n",
      " [0.3 0.3 0.3 0.3 0.3 0.3]\n",
      " [0.3 0.3 0.3 0.3 0.3 0.3]\n",
      " [0.3 0.3 0.3 0.3 0.3 0.3]\n",
      " [0.3 0.3 0.3 0.3 0.3 0.3]]\n",
      "[[0.4 0.4 0.4 0.4 0.4 0.4]\n",
      " [0.4 0.4 0.4 0.4 0.4 0.4]\n",
      " [0.4 0.4 0.4 0.4 0.4 0.4]\n",
      " [0.4 0.4 0.4 0.4 0.4 0.4]\n",
      " [0.4 0.4 0.4 0.4 0.4 0.4]\n",
      " [0.4 0.4 0.4 0.4 0.4 0.4]]\n",
      "[[0.6 0.6 0.6 0.6 0.6 0.6]\n",
      " [0.6 0.6 0.6 0.6 0.6 0.6]\n",
      " [0.6 0.6 0.6 0.6 0.6 0.6]\n",
      " [0.6 0.6 0.6 0.6 0.6 0.6]\n",
      " [0.6 0.6 0.6 0.6 0.6 0.6]\n",
      " [0.6 0.6 0.6 0.6 0.6 0.6]]\n"
     ]
    }
   ],
   "source": [
    "import numpy as np\n",
    "\n",
    "row_col = 6\n",
    "\n",
    "val_diag = 0.3\n",
    "val_non_diag = (1 - val_diag) / (row_col - 1)\n",
    "FD2_DA = np.full((row_col, row_col), val_diag)\n",
    "print(FD2_DA)\n",
    "#np.fill_diagonal(FD2_DA, val_diag)\n",
    "#print(FD2_DA)\n",
    "#FD2_DA = FD2_DA/np.sum(FD2_DA)\n",
    "\n",
    "val_diag = 0.4\n",
    "val_non_diag = (1 - val_diag) / (row_col - 1)\n",
    "DA_FD1 = np.full((row_col, row_col), val_diag)\n",
    "np.fill_diagonal(DA_FD1, val_diag)\n",
    "print(DA_FD1)\n",
    "DA_FD1 = DA_FD1/np.sum(DA_FD1)\n",
    "\n",
    "\n",
    "val_diag = 0.6\n",
    "val_non_diag = (1 - val_diag) / (row_col - 1)\n",
    "FD2_FD1 = np.full((row_col, row_col), val_diag)\n",
    "np.fill_diagonal(FD2_FD1, val_diag)\n",
    "print(FD2_FD1)\n",
    "FD2_FD1 = FD2_FD1/np.sum(FD2_FD1)\n",
    "\n",
    "\n",
    "\n",
    "# Make for loop to ensure I create the proper 3D matrix.\n",
    "\n"
   ]
  },
  {
   "cell_type": "code",
   "execution_count": 24,
   "metadata": {},
   "outputs": [
    {
     "name": "stdout",
     "output_type": "stream",
     "text": [
      "0.265\n",
      "0.24\n",
      "0.5449999999999999\n",
      "1.0\n",
      "[[[0.03269476 0.00817369 0.0045977  0.00204342 0.00051086 0.03269476]\n",
      "  [0.00817369 0.00817369 0.00306513 0.00153257 0.00051086 0.00204342]\n",
      "  [0.0045977  0.00306513 0.0045977  0.00153257 0.00057471 0.00306513]\n",
      "  [0.00204342 0.00153257 0.00153257 0.00204342 0.00051086 0.00306513]\n",
      "  [0.00051086 0.00051086 0.00057471 0.00051086 0.00051086 0.00204342]\n",
      "  [0.03269476 0.00204342 0.00306513 0.00306513 0.00204342 0.03269476]]\n",
      "\n",
      " [[0.00817369 0.00817369 0.00306513 0.00153257 0.00051086 0.00204342]\n",
      "  [0.00817369 0.03269476 0.00817369 0.0045977  0.00204342 0.00051086]\n",
      "  [0.00306513 0.00817369 0.00817369 0.00306513 0.00153257 0.00051086]\n",
      "  [0.00153257 0.0045977  0.00306513 0.0045977  0.00153257 0.00057471]\n",
      "  [0.00051086 0.00204342 0.00153257 0.00153257 0.00204342 0.00051086]\n",
      "  [0.00204342 0.00051086 0.00051086 0.00057471 0.00051086 0.00051086]]\n",
      "\n",
      " [[0.0045977  0.00306513 0.0045977  0.00153257 0.00057471 0.00306513]\n",
      "  [0.00306513 0.00817369 0.00817369 0.00306513 0.00153257 0.00051086]\n",
      "  [0.0045977  0.00817369 0.03269476 0.00817369 0.0045977  0.00204342]\n",
      "  [0.00153257 0.00306513 0.00817369 0.00817369 0.00306513 0.00153257]\n",
      "  [0.00057471 0.00153257 0.0045977  0.00306513 0.0045977  0.00153257]\n",
      "  [0.00306513 0.00051086 0.00204342 0.00153257 0.00153257 0.00204342]]\n",
      "\n",
      " [[0.00204342 0.00153257 0.00153257 0.00204342 0.00051086 0.00306513]\n",
      "  [0.00153257 0.0045977  0.00306513 0.0045977  0.00153257 0.00057471]\n",
      "  [0.00153257 0.00306513 0.00817369 0.00817369 0.00306513 0.00153257]\n",
      "  [0.00204342 0.0045977  0.00817369 0.03269476 0.00817369 0.0045977 ]\n",
      "  [0.00051086 0.00153257 0.00306513 0.00817369 0.00817369 0.00306513]\n",
      "  [0.00306513 0.00057471 0.00153257 0.0045977  0.00306513 0.0045977 ]]\n",
      "\n",
      " [[0.00051086 0.00051086 0.00057471 0.00051086 0.00051086 0.00204342]\n",
      "  [0.00051086 0.00204342 0.00153257 0.00153257 0.00204342 0.00051086]\n",
      "  [0.00057471 0.00153257 0.0045977  0.00306513 0.0045977  0.00153257]\n",
      "  [0.00051086 0.00153257 0.00306513 0.00817369 0.00817369 0.00306513]\n",
      "  [0.00051086 0.00204342 0.0045977  0.00817369 0.03269476 0.00817369]\n",
      "  [0.00204342 0.00051086 0.00153257 0.00306513 0.00817369 0.00817369]]\n",
      "\n",
      " [[0.03269476 0.00204342 0.00306513 0.00306513 0.00204342 0.03269476]\n",
      "  [0.00204342 0.00051086 0.00051086 0.00057471 0.00051086 0.00051086]\n",
      "  [0.00306513 0.00051086 0.00204342 0.00153257 0.00153257 0.00204342]\n",
      "  [0.00306513 0.00057471 0.00153257 0.0045977  0.00306513 0.0045977 ]\n",
      "  [0.00204342 0.00051086 0.00153257 0.00306513 0.00817369 0.00817369]\n",
      "  [0.03269476 0.00051086 0.00204342 0.0045977  0.00817369 0.03269476]]]\n"
     ]
    }
   ],
   "source": [
    "\n",
    "size = 6\n",
    "FD2_DA_FD1 = np.zeros((size,size,size))\n",
    "val_diag = (0.29+0.24)/2\n",
    "print(val_diag)\n",
    "val_non_diag = (1 - val_diag) / (row_col - 1)\n",
    "FD2_DA = np.full((size, size), val_diag)\n",
    "FD2_DA = np.full((size, size), val_diag)\n",
    "\n",
    "val_diag = (0.3+0.18)/2\n",
    "print(val_diag)\n",
    "val_non_diag = (1 - val_diag) / (row_col - 1)\n",
    "DA_FD1 = np.full((size, size), val_diag)\n",
    "DA_FD1 = DA_FD1/np.sum(DA_FD1)\n",
    "\n",
    "\n",
    "val_diag = (0.6+0.49)/2\n",
    "print(val_diag)\n",
    "val_non_diag = (1 - val_diag) / (row_col - 1)\n",
    "FD2_FD1 = np.full((size, size), val_diag)\n",
    "FD2_FD1 = FD2_FD1/np.sum(FD2_FD1)\n",
    "\n",
    "\n",
    "temporal_relation = np.ones(size)*0.2\n",
    "temporal_relation = [0.8,0.4,0.3,0.2,0.1,0.8]\n",
    "#temporal_relation = [0.5,0.2,0.1,0.05,0.05]\n",
    "\n",
    "\n",
    "for fd2 in range(0,size):\n",
    "    for da in range(0,size):\n",
    "        for fd1 in range(0,size):\n",
    "            \n",
    "            \n",
    "\n",
    "            fd2_da_prob = FD2_DA[fd2,da]*temporal_relation[np.abs(fd2-da)]\n",
    "            \n",
    "            da_fd1_prob = DA_FD1[da,fd1]*temporal_relation[np.abs(fd1-da)]\n",
    "            fd2_fd1_prob = FD2_FD1[fd2,fd1]*temporal_relation[np.abs(fd2-fd1)]\n",
    "\n",
    "\n",
    "            FD2_DA_FD1[fd2,da,fd1] = fd2_da_prob * da_fd1_prob * fd2_fd1_prob\n",
    "\n",
    "FD2_DA_FD1 = FD2_DA_FD1/np.sum(FD2_DA_FD1)\n",
    "print(np.sum(FD2_DA_FD1))\n",
    "print(FD2_DA_FD1)"
   ]
  },
  {
   "cell_type": "code",
   "execution_count": 14,
   "metadata": {},
   "outputs": [
    {
     "name": "stdout",
     "output_type": "stream",
     "text": [
      "[0.09     0.005625 0.005625 0.005625 0.005625 0.01125  0.005    0.001875\n",
      " 0.001875 0.001875 0.01125  0.001875 0.005    0.001875 0.001875 0.01125\n",
      " 0.001875 0.001875 0.005    0.001875 0.01125  0.001875 0.001875 0.001875\n",
      " 0.005    0.005    0.01125  0.001875 0.001875 0.001875 0.005625 0.09\n",
      " 0.005625 0.005625 0.005625 0.001875 0.01125  0.005    0.001875 0.001875\n",
      " 0.001875 0.01125  0.001875 0.005    0.001875 0.001875 0.01125  0.001875\n",
      " 0.001875 0.005    0.005    0.001875 0.01125  0.001875 0.001875 0.001875\n",
      " 0.005    0.01125  0.001875 0.001875 0.005625 0.005625 0.09     0.005625\n",
      " 0.005625 0.001875 0.001875 0.01125  0.005    0.001875 0.001875 0.001875\n",
      " 0.01125  0.001875 0.005    0.005    0.001875 0.001875 0.01125  0.001875\n",
      " 0.001875 0.005    0.001875 0.01125  0.001875 0.001875 0.001875 0.005\n",
      " 0.01125  0.001875 0.005625 0.005625 0.005625 0.09     0.005625 0.001875\n",
      " 0.001875 0.001875 0.01125  0.005    0.005    0.001875 0.001875 0.001875\n",
      " 0.01125  0.001875 0.005    0.001875 0.001875 0.01125  0.001875 0.001875\n",
      " 0.005    0.001875 0.01125  0.001875 0.001875 0.001875 0.005    0.01125\n",
      " 0.005625 0.005625 0.005625 0.005625 0.09    ]\n"
     ]
    }
   ],
   "source": [
    "flattened_array = FD2_DA_FD1.flatten()\n",
    "\n",
    "# Print the flattened array\n",
    "print(flattened_array)"
   ]
  },
  {
   "cell_type": "code",
   "execution_count": 13,
   "metadata": {},
   "outputs": [
    {
     "name": "stdout",
     "output_type": "stream",
     "text": [
      "[[0.18 0.01 0.02 0.02 0.02]\n",
      " [0.03 0.06 0.02 0.02 0.02]\n",
      " [0.03 0.01 0.12 0.02 0.02]\n",
      " [0.03 0.01 0.02 0.12 0.02]\n",
      " [0.03 0.01 0.02 0.02 0.12]]\n",
      "1.0\n"
     ]
    }
   ],
   "source": [
    "print(pi1*pi2)\n",
    "print(np.sum(pi1*pi2))"
   ]
  },
  {
   "cell_type": "code",
   "execution_count": 19,
   "metadata": {},
   "outputs": [
    {
     "name": "stdout",
     "output_type": "stream",
     "text": [
      "[0.2, 0.2, 0.2, 0.2, 0.2]\n"
     ]
    }
   ],
   "source": [
    "size = 5\n",
    "W1 = [i for i in range(0,size)]\n",
    "W2 = [i for i in range(0,size)]\n",
    "W3 = [i for i in range(0,size)]\n",
    "pi1 = [1/len(W1) for i in range(0,size)]\n",
    "pi2 = [1/len(W2) for i in range(0,size)]\n",
    "pi3 = [1/len(W3) for i in range(0,size)]\n",
    "print(pi3)"
   ]
  },
  {
   "cell_type": "code",
   "execution_count": 20,
   "metadata": {},
   "outputs": [
    {
     "data": {
      "text/plain": [
       "0.008000000000000002"
      ]
     },
     "execution_count": 20,
     "metadata": {},
     "output_type": "execute_result"
    }
   ],
   "source": [
    "pi1[1]*pi2[1]*pi3[1]"
   ]
  },
  {
   "cell_type": "code",
   "execution_count": 23,
   "metadata": {},
   "outputs": [
    {
     "name": "stdout",
     "output_type": "stream",
     "text": [
      "[[[0.36 0.06 0.06 0.06 0.06]\n",
      "  [0.01 0.06 0.01 0.01 0.01]\n",
      "  [0.01 0.01 0.06 0.01 0.01]\n",
      "  [0.01 0.01 0.01 0.06 0.01]\n",
      "  [0.01 0.01 0.01 0.01 0.06]]\n",
      "\n",
      " [[0.06 0.01 0.01 0.01 0.01]\n",
      "  [0.06 0.36 0.06 0.06 0.06]\n",
      "  [0.01 0.01 0.06 0.01 0.01]\n",
      "  [0.01 0.01 0.01 0.06 0.01]\n",
      "  [0.01 0.01 0.01 0.01 0.06]]\n",
      "\n",
      " [[0.06 0.01 0.01 0.01 0.01]\n",
      "  [0.01 0.06 0.01 0.01 0.01]\n",
      "  [0.06 0.06 0.36 0.06 0.06]\n",
      "  [0.01 0.01 0.01 0.06 0.01]\n",
      "  [0.01 0.01 0.01 0.01 0.06]]\n",
      "\n",
      " [[0.06 0.01 0.01 0.01 0.01]\n",
      "  [0.01 0.06 0.01 0.01 0.01]\n",
      "  [0.01 0.01 0.06 0.01 0.01]\n",
      "  [0.06 0.06 0.06 0.36 0.06]\n",
      "  [0.01 0.01 0.01 0.01 0.06]]\n",
      "\n",
      " [[0.06 0.01 0.01 0.01 0.01]\n",
      "  [0.01 0.06 0.01 0.01 0.01]\n",
      "  [0.01 0.01 0.06 0.01 0.01]\n",
      "  [0.01 0.01 0.01 0.06 0.01]\n",
      "  [0.06 0.06 0.06 0.06 0.36]]]\n",
      "[[[0.072 0.012 0.012 0.012 0.012]\n",
      "  [0.002 0.012 0.002 0.002 0.002]\n",
      "  [0.002 0.002 0.012 0.002 0.002]\n",
      "  [0.002 0.002 0.002 0.012 0.002]\n",
      "  [0.002 0.002 0.002 0.002 0.012]]\n",
      "\n",
      " [[0.012 0.002 0.002 0.002 0.002]\n",
      "  [0.012 0.072 0.012 0.012 0.012]\n",
      "  [0.002 0.002 0.012 0.002 0.002]\n",
      "  [0.002 0.002 0.002 0.012 0.002]\n",
      "  [0.002 0.002 0.002 0.002 0.012]]\n",
      "\n",
      " [[0.012 0.002 0.002 0.002 0.002]\n",
      "  [0.002 0.012 0.002 0.002 0.002]\n",
      "  [0.012 0.012 0.072 0.012 0.012]\n",
      "  [0.002 0.002 0.002 0.012 0.002]\n",
      "  [0.002 0.002 0.002 0.002 0.012]]\n",
      "\n",
      " [[0.012 0.002 0.002 0.002 0.002]\n",
      "  [0.002 0.012 0.002 0.002 0.002]\n",
      "  [0.002 0.002 0.012 0.002 0.002]\n",
      "  [0.012 0.012 0.012 0.072 0.012]\n",
      "  [0.002 0.002 0.002 0.002 0.012]]\n",
      "\n",
      " [[0.012 0.002 0.002 0.002 0.002]\n",
      "  [0.002 0.012 0.002 0.002 0.002]\n",
      "  [0.002 0.002 0.012 0.002 0.002]\n",
      "  [0.002 0.002 0.002 0.012 0.002]\n",
      "  [0.012 0.012 0.012 0.012 0.072]]]\n",
      "5.0\n"
     ]
    }
   ],
   "source": [
    "import numpy as np\n",
    "\n",
    "FD2_DA = np.array([[0.6, 0.1, 0.1, 0.1, 0.1],\n",
    "                   [0.1, 0.6, 0.1, 0.1, 0.1],\n",
    "                   [0.1, 0.1, 0.6, 0.1, 0.1],\n",
    "                   [0.1, 0.1, 0.1, 0.6, 0.1],\n",
    "                   [0.1, 0.1, 0.1, 0.1, 0.6]])\n",
    "\n",
    "DA_FD1 = np.array([[0.6, 0.1, 0.1, 0.1, 0.1],\n",
    "                   [0.1, 0.6, 0.1, 0.1, 0.1],\n",
    "                   [0.1, 0.1, 0.6, 0.1, 0.1],\n",
    "                   [0.1, 0.1, 0.1, 0.6, 0.1],\n",
    "                   [0.1, 0.1, 0.1, 0.1, 0.6]])\n",
    "\n",
    "FD2_FD1 = np.array([[0.6, 0.1, 0.1, 0.1, 0.1],\n",
    "                   [0.1, 0.6, 0.1, 0.1, 0.1],\n",
    "                   [0.1, 0.1, 0.6, 0.1, 0.1],\n",
    "                   [0.1, 0.1, 0.1, 0.6, 0.1],\n",
    "                   [0.1, 0.1, 0.1, 0.1, 0.6]])\n",
    "\n",
    "FD2_DA_FD1 = np.multiply(FD2_DA[:, :, np.newaxis], DA_FD1)\n",
    "\n",
    "print(FD2_DA_FD1)\n",
    "print(FD2_DA_FD1*pi1)\n",
    "print(np.sum(FD2_DA_FD1))\n"
   ]
  },
  {
   "attachments": {},
   "cell_type": "markdown",
   "metadata": {},
   "source": [
    "From the correlation we have as follows:"
   ]
  },
  {
   "cell_type": "code",
   "execution_count": null,
   "metadata": {},
   "outputs": [],
   "source": [
    "labels = [\n",
    "    r'$λ^{DA}_{t}$',\n",
    "    r'$λ^{FD1↓}_t$',\n",
    "    r'$λ^{FD2↓}_t$',\n",
    "    r'$λ^{FD1↑}_t$',\n",
    "    r'$λ^{FD2↑}_t$',\n",
    "    r'$y^{FD1↑}_t$',\n",
    "    r'$y^{FD2↑}_t$',\n",
    "    r'$y^{FD1↑}_t$',\n",
    "    r'$y^{FD2↑}_t$',\n",
    "    r'$a^{FD↑}_t$',\n",
    "    r'$a^{FD↓}_t$'\n",
    "]"
   ]
  },
  {
   "cell_type": "code",
   "execution_count": null,
   "metadata": {},
   "outputs": [],
   "source": [
    "import seaborn as sns\n",
    "\n",
    "df = data\n",
    "\n",
    "# Create a correlation matrix\n",
    "corr_data = df.corr()\n",
    "# Create a list of column names for the variables in the correlation matrix\n",
    "cols = corr_data.columns.tolist()\n",
    "print(cols)\n",
    "\n",
    "# Create a correlation matrix\n",
    "corr = corr_data\n",
    "\n",
    "# Define color map\n",
    "cmap = sns.diverging_palette(220, 10, as_cmap=True)\n",
    "M = len(cols)  # Number of features\n",
    "\n",
    "# Create a grid of subplots\n",
    "fig, ax = plt.subplots(nrows=M, ncols=M, figsize=(10, 10))\n",
    "\n",
    "# Loop through the rows and columns of the grid\n",
    "for i in range(M):  # through the rows\n",
    "    for j in range(M):  # through the columns\n",
    "\n",
    "        # Plot scatter plot in lower triangle\n",
    "        if i >= j:\n",
    "            ax[i, j].scatter(df.iloc[:, j], df.iloc[:, i], s=5)\n",
    "\n",
    "        # Plot correlation value in upper triangle\n",
    "        elif i < j:\n",
    "            corr_val = corr.iloc[i, j]\n",
    "            ax[i, j].text(0.5, 0.5, f\"{corr_val:.2f}\",\n",
    "                          ha='center', va='center',\n",
    "                          transform=ax[i, j].transAxes,\n",
    "                          bbox=dict(facecolor=cmap(corr_val), edgecolor='black', boxstyle='round'))\n",
    "            ax[i, j].axis('off')\n",
    "\n",
    "        if i != M - 1:  # if row is different from the last one change the x axis\n",
    "            ax[i, j].xaxis.set_visible(False)\n",
    "        if j != 0:  # if column is different from 0 then change the y axis\n",
    "            ax[i, j].yaxis.set_visible(False)\n",
    "\n",
    "        # Set only the axis's for the outer axis\n",
    "        ax[-1, j].set_xlabel(labels[j], rotation=0)\n",
    "        ax[i, 0].set_ylabel(labels[i], rotation=90)\n",
    "\n",
    "# Adjust the layout of the subplots\n",
    "plt.subplots_adjust(wspace=0.3, hspace=0.3)\n",
    "\n",
    "\n",
    "# Show the plot\n",
    "plt.savefig('Correlation_all_parameters.pdf', format=\"pdf\", bbox_inches=\"tight\")\n",
    "plt.show()\n"
   ]
  },
  {
   "attachments": {},
   "cell_type": "markdown",
   "metadata": {},
   "source": [
    "input is like this X[ h,d, f]"
   ]
  },
  {
   "cell_type": "code",
   "execution_count": 84,
   "metadata": {},
   "outputs": [
    {
     "name": "stdout",
     "output_type": "stream",
     "text": [
      "(24, 455, 12)\n",
      "[[1.00000000e+00 4.81266612e+20 1.03134191e+08 9.24301775e+03\n",
      "  9.26453903e+02 9.39489741e+01 9.63756906e+00 1.57180737e+00]\n",
      " [1.00000000e+00 4.33139951e+20 9.90088233e+07 9.05815739e+03\n",
      "  9.12557094e+02 9.30094843e+01 9.58938121e+00 1.57023557e+00]\n",
      " [1.00000000e+00 3.89825956e+20 9.50484704e+07 8.87699425e+03\n",
      "  8.98868738e+02 9.20793895e+01 9.54143430e+00 1.56866533e+00]]\n"
     ]
    }
   ],
   "source": [
    "lambda_forget = [1,0.90,0.96,0.98,0.985,0.99,0.995,0.999]\n",
    "lambda_all = np.zeros((455,len(lambda_forget)))\n",
    "#data = np.array([[1,2,3],[1,2,3],[1,2,3],[1,2,3],[1,2,3],[1,2,3],[1,2,3]])\n",
    "print(np.shape(data_reshaped)) # (24, 455, 12) matrix\n",
    "# So the weight matrix should be: (24, 455, number_of_lambda_combinations)\n",
    "# number_of_lambda_combinations = is the hyperparameter to optimize.\n",
    "\n",
    "for s in range(1, np.size(data_reshaped, axis=1)+1):\n",
    "    for l,lambda_val in enumerate(lambda_forget):\n",
    "        lambda_all[s-1,l] = lambda_val**(s-np.size(data_reshaped, axis=1))\n",
    "\n",
    "print(lambda_all[2:5,:])"
   ]
  },
  {
   "attachments": {},
   "cell_type": "markdown",
   "metadata": {},
   "source": [
    "Plot the forgetting factors:"
   ]
  },
  {
   "cell_type": "code",
   "execution_count": 86,
   "metadata": {},
   "outputs": [
    {
     "data": {
      "image/png": "[encoded data removed]",
      "text/plain": [
       "<Figure size 2000x800 with 8 Axes>"
      ]
     },
     "metadata": {},
     "output_type": "display_data"
    }
   ],
   "source": [
    "import matplotlib.pyplot as plt\n",
    "\n",
    "# Your existing code...\n",
    "\n",
    "# Create subplots\n",
    "num_plots = len(lambda_forget)\n",
    "fig, axs = plt.subplots( 1, num_plots,figsize=(20 ,num_plots))\n",
    "\n",
    "# Plot lambda_all[1,:, f] for each f\n",
    "for f in range(num_plots):\n",
    "    axs[f].plot(lambda_all[:, f])\n",
    "    axs[f].set_title(f\"{lambda_forget[f]}\")\n",
    "\n",
    "# Adjust spacing between subplots\n",
    "plt.tight_layout()\n",
    "\n",
    "# Show the plot\n",
    "plt.show()\n"
   ]
  },
  {
   "cell_type": "code",
   "execution_count": 92,
   "metadata": {},
   "outputs": [
    {
     "name": "stdout",
     "output_type": "stream",
     "text": [
      "   1.000         0.900         0.960        0.980       0.985      0.990   \n",
      "0    1.0  5.941563e+20  1.119078e+08  9624.133433  954.885622  95.856519  \\\n",
      "1    1.0  5.347407e+20  1.074314e+08  9431.650764  940.562338  94.897954   \n",
      "2    1.0  4.812666e+20  1.031342e+08  9243.017749  926.453903  93.948974   \n",
      "3    1.0  4.331400e+20  9.900882e+07  9058.157394  912.557094  93.009484   \n",
      "4    1.0  3.898260e+20  9.504847e+07  8876.994246  898.868738  92.079389   \n",
      "\n",
      "      0.995     0.999  \n",
      "0  9.734672  1.574956  \n",
      "1  9.685999  1.573381  \n",
      "2  9.637569  1.571807  \n",
      "3  9.589381  1.570236  \n",
      "4  9.541434  1.568665  \n"
     ]
    }
   ],
   "source": [
    "import pandas as pd\n",
    "\n",
    "# Your existing code...\n",
    "\n",
    "lambda_forget = [1, 0.90, 0.96, 0.98, 0.985, 0.99, 0.995, 0.999]\n",
    "df_lambda = pd.DataFrame(lambda_all, columns=lambda_forget)\n",
    "\n",
    "print(df_lambda.head())\n",
    "\n",
    "csv_name_path = path_processed_data+\"forgettingFactor.csv\"\n",
    "df_lambda.to_csv(csv_name_path,index=False)"
   ]
  }
 ],
 "metadata": {
  "kernelspec": {
   "display_name": "Python 3",
   "language": "python",
   "name": "python3"
  },
  "language_info": {
   "codemirror_mode": {
    "name": "ipython",
    "version": 3
   },
   "file_extension": ".py",
   "mimetype": "text/x-python",
   "name": "python",
   "nbconvert_exporter": "python",
   "pygments_lexer": "ipython3",
   "version": "3.9.13"
  },
  "orig_nbformat": 4
 },
 "nbformat": 4,
 "nbformat_minor": 2
}
