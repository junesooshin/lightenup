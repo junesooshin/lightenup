{
 "cells": [
  {
   "attachments": {},
   "cell_type": "markdown",
   "metadata": {},
   "source": [
    "# Forecast\n",
    "\n",
    "For practical implementation:\n",
    "https://scikit-learn.org/stable/auto_examples/linear_model/plot_polynomial_interpolation.html\n",
    "\n",
    "For theoretical knowledge of spline:\n",
    "https://timodenk.com/blog/cubic-spline-interpolation/\n"
   ]
  },
  {
   "cell_type": "code",
   "execution_count": 1,
   "metadata": {},
   "outputs": [],
   "source": [
    "# Author: Mathieu Blondel\n",
    "#         Jake Vanderplas\n",
    "#         Christian Lorentzen\n",
    "#         Malte Londschien\n",
    "# License: BSD 3 clause\n",
    "\n",
    "import numpy as np\n",
    "import matplotlib.pyplot as plt\n",
    "import pandas as pd\n",
    "from sklearn.linear_model import Ridge\n",
    "from sklearn.preprocessing import PolynomialFeatures, SplineTransformer\n",
    "from sklearn.pipeline import make_pipeline\n",
    "import os\n",
    "import matplotlib.lines as mlines\n",
    "import seaborn as sns\n",
    "from distfit import distfit"
   ]
  },
  {
   "cell_type": "code",
   "execution_count": 2,
   "metadata": {},
   "outputs": [],
   "source": [
    "\n",
    "desktop = os.path.join(os.path.join(os.environ['USERPROFILE']), 'Desktop') \n",
    "#print(os.getcwd())\n",
    "This_file_path = os.getcwd()\n",
    "total_string_len = len(This_file_path)\n",
    "#print(total_string_len)\n",
    "\n",
    "string_len_to_remove = len(\"Data Examination\")\n",
    "#print(string_len_to_remove)\n",
    "\n",
    "path = This_file_path[0:(total_string_len-string_len_to_remove)]\n",
    "#print(path)\n",
    "path_processed_data = path + \"Processed_data\\\\\"\n",
    "#print(path_processed_data)"
   ]
  },
  {
   "attachments": {},
   "cell_type": "markdown",
   "metadata": {},
   "source": [
    "# Set up FCR-D forecast. Mean for the past 5 days. Base case\n",
    "- At D-2 it is past 5 days, meaning 7 days from what to predict.\n",
    "- At D-1 it is the past 5 days, meaning 6 days from what to predict"
   ]
  },
  {
   "cell_type": "code",
   "execution_count": 3,
   "metadata": {},
   "outputs": [],
   "source": [
    "data = pd.read_csv(path_processed_data + 'real.csv') # Change path\n",
    "data = data.drop(columns=[\"Hour\"])\n",
    "True_data = data\n",
    "True_data_arr = True_data.to_numpy()\n"
   ]
  },
  {
   "cell_type": "code",
   "execution_count": 4,
   "metadata": {},
   "outputs": [
    {
     "name": "stdout",
     "output_type": "stream",
     "text": [
      "(10920, 11)\n"
     ]
    }
   ],
   "source": [
    "Forecasts = [\"Spot\",\"FD1_down\",\"FD2_down\",\"FD1_up\",\"FD2_up\",\"FD1_up_percentage\",\"FD2_up_percentage\",\"FD1_down_percentage\",\"FD2_down_percentage\",\"FD_act_up\",\"FD_act_down\"]\n",
    "Total_length_test = len(data[\"FD1_down\"])\n",
    "forecasted_data = np.zeros(( Total_length_test, len(Forecasts) ))  # (Specific Forecasts, Data size, number of total forecasts )\n",
    "print(np.shape(forecasted_data))"
   ]
  },
  {
   "cell_type": "code",
   "execution_count": 5,
   "metadata": {},
   "outputs": [
    {
     "name": "stdout",
     "output_type": "stream",
     "text": [
      "Forecasts for  Spot  ended\n",
      "Forecasts for  FD1_down  ended\n",
      "Forecasts for  FD2_down  ended\n",
      "Forecasts for  FD1_up  ended\n",
      "Forecasts for  FD2_up  ended\n",
      "Forecasts for  FD1_up_percentage  ended\n",
      "Forecasts for  FD2_up_percentage  ended\n",
      "Forecasts for  FD1_down_percentage  ended\n",
      "Forecasts for  FD2_down_percentage  ended\n",
      "Forecasts for  FD_act_up  ended\n",
      "Forecasts for  FD_act_down  ended\n"
     ]
    }
   ],
   "source": [
    "index_FD1_up_percentage = Forecasts.index(\"FD1_up_percentage\")\n",
    "index_FD1_down_percentage = Forecasts.index(\"FD1_down_percentage\")\n",
    "\n",
    "D_2_list = [2,3,4,5,6]\n",
    "start_idx = D_2_list[-1]*24\n",
    "\n",
    "for col in data.columns:\n",
    "    index = Forecasts.index(col) # Get the index\n",
    "    \n",
    "    # Run mean procedure\n",
    "\n",
    "    # As the volumes need to add up to 100% then is it only the D-1 which has been forecasted as t\n",
    "    if 'percentage' in col:\n",
    "            if \"FD2\" in col:\n",
    "                if \"up\" in col:\n",
    "                    forecasted_data[:,index] = 1 - forecasted_data[:,index_FD1_up_percentage]\n",
    "                else:\n",
    "                    forecasted_data[:,index] = 1 - forecasted_data[:,index_FD1_down_percentage]\n",
    "                    #forecasted_data.loc[h, col] = 1 - forecasted_data.loc[h, 'FD1_down_percentage']\n",
    "            else:\n",
    "                for h in range(start_idx,Total_length_test):\n",
    "                    value = 0\n",
    "                    for hd in D_2_list:\n",
    "\n",
    "                        #print(data.loc[h+8760-hd*24, col])\n",
    "                        #print(h+8760-hd*24)\n",
    "                        value = value + data.loc[h-hd*24, col]\n",
    "                    \n",
    "                    forecasted_data[h,index] = value/len(D_2_list)\n",
    "\n",
    "    else:\n",
    "\n",
    "        for h in range(start_idx,Total_length_test):\n",
    "            value = 0\n",
    "            for hd in D_2_list:\n",
    "\n",
    "                #print(data.loc[h+8760-hd*24, col])\n",
    "                #print(h+8760-hd*24)\n",
    "                value = value + data.loc[h-hd*24, col]\n",
    "            \n",
    "            forecasted_data[h,index] = value/len(D_2_list)\n",
    "\n",
    "\n",
    "    print(\"Forecasts for \", col, \" ended\")\n",
    "\n",
    "            \n",
    "    "
   ]
  },
  {
   "cell_type": "code",
   "execution_count": 6,
   "metadata": {},
   "outputs": [
    {
     "name": "stdout",
     "output_type": "stream",
     "text": [
      "Forecast  Spot ( 79.0 62.0 69.0 )     FD1_down ( 33.0 9.0 82.0 )     FD2_down ( 7.0 3.0 11.0 )     FD1_up ( 28.0 14.0 41.0 )     FD2_up ( 6.0 3.0 7.0 )\n"
     ]
    }
   ],
   "source": [
    "F_len = np.size(forecasted_data[:,:],1) # Number of features\n",
    "T_len = np.size(forecasted_data[:,:],0) # length of test data\n",
    "Saved_Info = np.zeros((F_len ,(1+1+1+1) ) ) # Number of different forecast noise, Features and col = (noise type, MAE, MedianEA, Std) \n",
    "F = data.columns\n",
    "for f in range(0,F_len): # For each type of forecast, spot, FD2 Down so forth..\n",
    "\n",
    "    errors = (True_data_arr[start_idx:,f] - forecasted_data[start_idx:,f])\n",
    "\n",
    "    MAE_h  =np.abs(errors)\n",
    "    #MAPE_h = np.abs( (errors) / (True_data_arr[:,f]) ) * 100\n",
    "    \n",
    "    #MAPE = np.mean(MAPE_h)\n",
    "    MAE = np.mean(MAE_h)\n",
    "    \n",
    "    #Median_APE = np.median(MAPE_h)\n",
    "    Median_AE = np.median(MAE_h)\n",
    "\n",
    "    #Std_APE = np.std(MAPE_h)\n",
    "    Std_AE = np.std(MAE_h)\n",
    "\n",
    "    # Save the proper data\n",
    "    Saved_Info[f,1] = MAE\n",
    "    Saved_Info[f,2] = Median_AE\n",
    "    Saved_Info[f,3] = Std_AE\n",
    "\n",
    "print(\"Forecast \",F[0],\"(\",np.round(Saved_Info[0,1]), np.round(Saved_Info[0,2]), np.round(Saved_Info[0,3]),\")\", \"   \",F[1],\"(\",np.round(Saved_Info[1,1]), np.round(Saved_Info[1,2]), np.round(Saved_Info[1,3]),\")\", \"   \",F[2],\"(\",np.round(Saved_Info[2,1]), np.round(Saved_Info[2,2]), np.round(Saved_Info[2,3]),\")\", \"   \",F[3],\"(\",np.round(Saved_Info[3,1]), np.round(Saved_Info[3,2]), np.round(Saved_Info[3,3]),\")\", \"   \",F[4],\"(\",np.round(Saved_Info[4,1]), np.round(Saved_Info[4,2]), np.round(Saved_Info[4,3]),\")\")\n",
    "\n"
   ]
  },
  {
   "attachments": {},
   "cell_type": "markdown",
   "metadata": {},
   "source": [
    "# Create a csv file for forecasted values"
   ]
  },
  {
   "cell_type": "code",
   "execution_count": 7,
   "metadata": {},
   "outputs": [],
   "source": [
    "F = data.columns\n",
    "# change forecasted_data_3D to a dataframe\n",
    "df_forecast = pd.DataFrame(forecasted_data[:,:], columns=F)\n",
    "\n",
    "#Create csv\n",
    "csv_name_path = path_processed_data+\"forecast_all1.csv\"\n",
    "df_forecast.to_csv(csv_name_path,index=False)\n",
    "\n",
    "# Create the perfect forecast as well:\n",
    "csv_name_path = path_processed_data+\"forecast_all0.csv\"\n",
    "data.to_csv(csv_name_path,index=False)"
   ]
  },
  {
   "cell_type": "code",
   "execution_count": 12,
   "metadata": {},
   "outputs": [
    {
     "data": {
      "text/plain": [
       "0        0.000000\n",
       "1        0.000000\n",
       "2        0.000000\n",
       "3        0.000000\n",
       "4        0.000000\n",
       "           ...   \n",
       "10915   -1.193366\n",
       "10916   -1.683915\n",
       "10917   -2.290900\n",
       "10918   -1.922386\n",
       "10919   -1.562320\n",
       "Name: FD1_up, Length: 10920, dtype: float64"
      ]
     },
     "execution_count": 12,
     "metadata": {},
     "output_type": "execute_result"
    }
   ],
   "source": [
    "datas = pd.read_csv(path_processed_data + 'forecast_all1_test.csv') # Change path\n",
    "data2s = pd.read_csv(path_processed_data + 'forecast_all1.csv') # Change path\n",
    "data2s[\"FD1_up\"] - datas[\"FD1_up\"]\n"
   ]
  },
  {
   "attachments": {},
   "cell_type": "markdown",
   "metadata": {},
   "source": [
    "# Set up all the other forecasts"
   ]
  },
  {
   "cell_type": "code",
   "execution_count": 59,
   "metadata": {},
   "outputs": [],
   "source": [
    "data = pd.read_csv(path_processed_data + 'real.csv') # Change path\n",
    "data = data.drop(columns=[\"Hour\"])\n",
    "True_data = data\n",
    "True_data_arr = True_data.to_numpy()\n",
    "Total_length_test = len(data[\"FD1_down\"])\n"
   ]
  },
  {
   "cell_type": "code",
   "execution_count": 14,
   "metadata": {},
   "outputs": [
    {
     "data": {
      "text/plain": [
       "[2, 3, 4, 5, 6]"
      ]
     },
     "execution_count": 14,
     "metadata": {},
     "output_type": "execute_result"
    }
   ],
   "source": [
    "[i for i in range(2,7)]"
   ]
  },
  {
   "cell_type": "code",
   "execution_count": 15,
   "metadata": {},
   "outputs": [
    {
     "name": "stdout",
     "output_type": "stream",
     "text": [
      "Spot\n",
      "FD1_down\n",
      "FD2_down\n",
      "FD1_up\n",
      "FD2_up\n",
      "FD1_up_percentage\n",
      "FD2_up_percentage\n",
      "FD1_down_percentage\n",
      "FD2_down_percentage\n",
      "FD_act_up\n",
      "FD_act_down\n"
     ]
    }
   ],
   "source": [
    "#Forecasts = [\"Spot\",\"FD1_down\",\"FD2_down\",\"FD1_up\",\"FD2_up\"]\n",
    "Forecasts = [\"Spot\",\"FD1_down\",\"FD2_down\",\"FD1_up\",\"FD2_up\",\"FD1_up_percentage\",\"FD2_up_percentage\",\"FD1_down_percentage\",\"FD2_down_percentage\",\"FD_act_up\",\"FD_act_down\"]\n",
    "back_view = [0,7,41,101]\n",
    "back_view = [i for i in [0,7,41,101]]\n",
    "start_idx = [i*24 for i in [0,7,41,101]]\n",
    "#start_idx = [0,6*24,40*24,100*24]\n",
    "forecasted_data_3D_test = np.zeros(( Total_length_test, len(Forecasts), len(back_view) ))  # (Specific Forecasts, Data size, number of total forecasts )\n",
    "for f,col in enumerate(data[Forecasts].columns):\n",
    "    index = Forecasts.index(col) # Get the index\n",
    "    print(col)\n",
    "    \n",
    "\n",
    "    for n,back in enumerate(back_view):\n",
    "\n",
    "        if back == 0:\n",
    "            D_list = [0]\n",
    "        else:\n",
    "            D_list = [i for i in range(2,back)]\n",
    "\n",
    "        for h in range(start_idx[n],Total_length_test):\n",
    "            value = 0\n",
    "            for hd in D_list:\n",
    "                \n",
    "                value = value + data.loc[h-hd*24, col]\n",
    "                #print(value)\n",
    "            \n",
    "            forecasted_data_3D_test[h,index,n] = value/len(D_list)"
   ]
  },
  {
   "cell_type": "code",
   "execution_count": 16,
   "metadata": {},
   "outputs": [
    {
     "name": "stdout",
     "output_type": "stream",
     "text": [
      "Forecast  0      Spot ( 0.0 0.0 0.0 )     FD1_down ( 0.0 0.0 0.0 )     FD2_down ( 0.0 0.0 0.0 )     FD1_up ( 0.0 0.0 0.0 )     FD2_up ( 0.0 0.0 0.0 )\n",
      "Forecast  1      Spot ( 79.0 62.0 69.0 )     FD1_down ( 33.0 9.0 82.0 )     FD2_down ( 7.0 3.0 12.0 )     FD1_up ( 28.0 14.0 41.0 )     FD2_up ( 7.0 3.0 9.0 )\n",
      "Forecast  2      Spot ( 100.0 76.0 83.0 )     FD1_down ( 37.0 18.0 81.0 )     FD2_down ( 14.0 8.0 16.0 )     FD1_up ( 33.0 20.0 41.0 )     FD2_up ( 20.0 15.0 15.0 )\n",
      "Forecast  3      Spot ( 118.0 95.0 96.0 )     FD1_down ( 41.0 27.0 80.0 )     FD2_down ( 20.0 18.0 17.0 )     FD1_up ( 36.0 25.0 42.0 )     FD2_up ( 25.0 20.0 20.0 )\n"
     ]
    }
   ],
   "source": [
    "N_len = np.size(forecasted_data_3D_test[:,:,:],2) # Number of forecasts\n",
    "F_len = np.size(forecasted_data_3D_test[:,:,:],1) # Number of features\n",
    "T_len = np.size(forecasted_data_3D_test[:,:,:],0) # length of test data\n",
    "Saved_Info = np.zeros((N_len,F_len ,(1+1+1+1) ) ) # Number of different forecast noise, Features and col = (noise type, MAE, MedianEA, Std) \n",
    "F = data.columns\n",
    "for n in range(0,N_len): # For each forecast factor\n",
    "\n",
    "    for f in range(0,F_len): # For each type of forecast, spot, FD2 Down so forth..\n",
    "        \n",
    "        errors = (True_data_arr[:,f] - forecasted_data_3D_test[:,f,n])\n",
    "\n",
    "        MAE_h  =np.abs(errors)\n",
    "        #MAPE_h = np.abs( (errors) / (True_data_arr[:,f]) ) * 100\n",
    "        \n",
    "        #MAPE = np.mean(MAPE_h)\n",
    "        MAE = np.mean(MAE_h)\n",
    "        \n",
    "        #Median_APE = np.median(MAPE_h)\n",
    "        Median_AE = np.median(MAE_h)\n",
    "\n",
    "        #Std_APE = np.std(MAPE_h)\n",
    "        Std_AE = np.std(MAE_h)\n",
    "    \n",
    "            \n",
    "        # Save the proper data\n",
    "        Saved_Info[n,f,0] = n\n",
    "        Saved_Info[n,f,1] = MAE\n",
    "        Saved_Info[n,f,2] = Median_AE\n",
    "        Saved_Info[n,f,3] = Std_AE\n",
    "\n",
    "\n",
    "#print(Saved_Info)\n",
    "\n",
    "\n",
    "for n in range(0,N_len):\n",
    "    print(\"Forecast \",n, \"    \",F[0],\"(\",np.round(Saved_Info[n,0,1]), np.round(Saved_Info[n,0,2]), np.round(Saved_Info[n,0,3]),\")\", \"   \",F[1],\"(\",np.round(Saved_Info[n,1,1]), np.round(Saved_Info[n,1,2]), np.round(Saved_Info[n,1,3]),\")\", \"   \",F[2],\"(\",np.round(Saved_Info[n,2,1]), np.round(Saved_Info[n,2,2]), np.round(Saved_Info[n,2,3]),\")\", \"   \",F[3],\"(\",np.round(Saved_Info[n,3,1]), np.round(Saved_Info[n,3,2]), np.round(Saved_Info[n,3,3]),\")\", \"   \",F[4],\"(\",np.round(Saved_Info[n,4,1]), np.round(Saved_Info[n,4,2]), np.round(Saved_Info[n,4,3]),\")\")\n",
    "\n"
   ]
  },
  {
   "cell_type": "code",
   "execution_count": 17,
   "metadata": {},
   "outputs": [
    {
     "name": "stdout",
     "output_type": "stream",
     "text": [
      "c:\\Users\\Daniel  BV\\Desktop\\Thesis\\lightenup\\Processed_data\\forecast_all0.csv\n",
      "c:\\Users\\Daniel  BV\\Desktop\\Thesis\\lightenup\\Processed_data\\forecast_all1.csv\n",
      "c:\\Users\\Daniel  BV\\Desktop\\Thesis\\lightenup\\Processed_data\\forecast_all2.csv\n",
      "c:\\Users\\Daniel  BV\\Desktop\\Thesis\\lightenup\\Processed_data\\forecast_all3.csv\n"
     ]
    }
   ],
   "source": [
    "F = data.columns\n",
    "# change forecasted_data_3D to a dataframe\n",
    "for n in range(0,N_len): # For each forecast factor\n",
    "    df_forecast = pd.DataFrame(forecasted_data_3D_test[:,:,n], columns=F)\n",
    "\n",
    "    #Create csv\n",
    "    csv_name_path = path_processed_data+\"forecast_all\"+str(n)+\".csv\"\n",
    "    print(csv_name_path)\n",
    "    df_forecast.to_csv(csv_name_path,index=False)\n",
    "\n"
   ]
  },
  {
   "attachments": {},
   "cell_type": "markdown",
   "metadata": {},
   "source": [
    "# Plot for Appendix"
   ]
  },
  {
   "cell_type": "code",
   "execution_count": 5,
   "metadata": {},
   "outputs": [
    {
     "name": "stdout",
     "output_type": "stream",
     "text": [
      "Spot\n",
      "FD1_down\n",
      "FD2_down\n",
      "FD1_up\n",
      "FD2_up\n"
     ]
    }
   ],
   "source": [
    "Forecasts = [\"Spot\",\"FD1_down\",\"FD2_down\",\"FD1_up\",\"FD2_up\"]\n",
    "#Forecasts = [\"Spot\",\"FD1_down\",\"FD2_down\",\"FD1_up\",\"FD2_up\",\"FD1_up_percentage\",\"FD2_up_percentage\",\"FD1_down_percentage\",\"FD2_down_percentage\",\"FD_act_up\",\"FD_act_down\"]\n",
    "back_view = [0,6,40,100]\n",
    "back_view = [i for i in range(0,110,10)]\n",
    "start_idx = [i*24 for i in range(0,110,10)]\n",
    "#start_idx = [0,6*24,40*24,100*24]\n",
    "forecasted_data_3D_test = np.zeros(( Total_length_test, len(Forecasts), len(back_view) ))  # (Specific Forecasts, Data size, number of total forecasts )\n",
    "for f,col in enumerate(data[Forecasts].columns):\n",
    "    index = Forecasts.index(col) # Get the index\n",
    "    print(col)\n",
    "    \n",
    "\n",
    "    for n,back in enumerate(back_view):\n",
    "\n",
    "        if back == 0:\n",
    "            D_list = [0]\n",
    "        else:\n",
    "            D_list = [i for i in range(2,back)]\n",
    "\n",
    "        for h in range(start_idx[n],Total_length_test):\n",
    "            value = 0\n",
    "            for hd in D_list:\n",
    "                \n",
    "                value = value + data.loc[h-hd*24, col]\n",
    "                #print(value)\n",
    "            \n",
    "            forecasted_data_3D_test[h,index,n] = value/len(D_list)"
   ]
  },
  {
   "cell_type": "code",
   "execution_count": 6,
   "metadata": {},
   "outputs": [
    {
     "name": "stdout",
     "output_type": "stream",
     "text": [
      "Forecast d: 0      Spot ( 0.0 0.0 0.0 )     FD1_down ( 0.0 0.0 0.0 )     FD2_down ( 0.0 0.0 0.0 )     FD1_up ( 0.0 0.0 0.0 )     FD2_up ( 0.0 0.0 0.0 )\n",
      "Forecast d: 10      Spot ( 79.0 61.0 69.0 )     FD1_down ( 33.0 10.0 82.0 )     FD2_down ( 8.0 3.0 13.0 )     FD1_up ( 28.0 14.0 40.0 )     FD2_up ( 8.0 4.0 10.0 )\n",
      "Forecast d: 20      Spot ( 86.0 64.0 75.0 )     FD1_down ( 35.0 14.0 81.0 )     FD2_down ( 11.0 5.0 15.0 )     FD1_up ( 30.0 17.0 40.0 )     FD2_up ( 12.0 8.0 12.0 )\n",
      "Forecast d: 30      Spot ( 94.0 72.0 79.0 )     FD1_down ( 36.0 15.0 81.0 )     FD2_down ( 12.0 7.0 16.0 )     FD1_up ( 31.0 18.0 41.0 )     FD2_up ( 16.0 11.0 13.0 )\n",
      "Forecast d: 40      Spot ( 100.0 76.0 83.0 )     FD1_down ( 37.0 18.0 81.0 )     FD2_down ( 14.0 8.0 16.0 )     FD1_up ( 32.0 19.0 41.0 )     FD2_up ( 19.0 15.0 14.0 )\n",
      "Forecast d: 50      Spot ( 102.0 79.0 86.0 )     FD1_down ( 39.0 20.0 81.0 )     FD2_down ( 15.0 10.0 17.0 )     FD1_up ( 34.0 21.0 42.0 )     FD2_up ( 21.0 17.0 16.0 )\n",
      "Forecast d: 60      Spot ( 105.0 84.0 87.0 )     FD1_down ( 40.0 22.0 81.0 )     FD2_down ( 17.0 11.0 17.0 )     FD1_up ( 35.0 22.0 42.0 )     FD2_up ( 23.0 18.0 18.0 )\n",
      "Forecast d: 70      Spot ( 110.0 86.0 93.0 )     FD1_down ( 41.0 24.0 81.0 )     FD2_down ( 18.0 12.0 18.0 )     FD1_up ( 35.0 24.0 42.0 )     FD2_up ( 23.0 18.0 19.0 )\n",
      "Forecast d: 80      Spot ( 113.0 89.0 95.0 )     FD1_down ( 41.0 26.0 81.0 )     FD2_down ( 19.0 14.0 18.0 )     FD1_up ( 36.0 24.0 42.0 )     FD2_up ( 24.0 19.0 20.0 )\n",
      "Forecast d: 90      Spot ( 117.0 93.0 96.0 )     FD1_down ( 41.0 27.0 80.0 )     FD2_down ( 19.0 16.0 17.0 )     FD1_up ( 36.0 24.0 43.0 )     FD2_up ( 24.0 19.0 20.0 )\n",
      "Forecast d: 100      Spot ( 118.0 95.0 95.0 )     FD1_down ( 41.0 27.0 80.0 )     FD2_down ( 20.0 18.0 17.0 )     FD1_up ( 36.0 25.0 42.0 )     FD2_up ( 25.0 20.0 20.0 )\n"
     ]
    }
   ],
   "source": [
    "N_len = np.size(forecasted_data_3D_test[:,:,:],2) # Number of forecasts\n",
    "F_len = np.size(forecasted_data_3D_test[:,:,:],1) # Number of features\n",
    "T_len = np.size(forecasted_data_3D_test[:,:,:],0) # length of test data\n",
    "Saved_Info = np.zeros((N_len,F_len ,(1+1+1+1) ) ) # Number of different forecast noise, Features and col = (noise type, MAE, MedianEA, Std) \n",
    "F = data.columns\n",
    "for n in range(0,N_len): # For each forecast factor\n",
    "\n",
    "    for f in range(0,F_len): # For each type of forecast, spot, FD2 Down so forth..\n",
    "        \n",
    "        errors = (True_data_arr[:,f] - forecasted_data_3D_test[:,f,n])\n",
    "\n",
    "        MAE_h  =np.abs(errors)\n",
    "        #MAPE_h = np.abs( (errors) / (True_data_arr[:,f]) ) * 100\n",
    "        \n",
    "        #MAPE = np.mean(MAPE_h)\n",
    "        MAE = np.mean(MAE_h)\n",
    "        \n",
    "        #Median_APE = np.median(MAPE_h)\n",
    "        Median_AE = np.median(MAE_h)\n",
    "\n",
    "        #Std_APE = np.std(MAPE_h)\n",
    "        Std_AE = np.std(MAE_h)\n",
    "    \n",
    "            \n",
    "        # Save the proper data\n",
    "        Saved_Info[n,f,0] = n\n",
    "        Saved_Info[n,f,1] = MAE\n",
    "        Saved_Info[n,f,2] = Median_AE\n",
    "        Saved_Info[n,f,3] = Std_AE\n",
    "\n",
    "\n",
    "#print(Saved_Info)\n",
    "\n",
    "\n",
    "for n in range(0,N_len):\n",
    "    print(\"Forecast d:\",back_view[n], \"    \",F[0],\"(\",np.round(Saved_Info[n,0,1]), np.round(Saved_Info[n,0,2]), np.round(Saved_Info[n,0,3]),\")\", \"   \",F[1],\"(\",np.round(Saved_Info[n,1,1]), np.round(Saved_Info[n,1,2]), np.round(Saved_Info[n,1,3]),\")\", \"   \",F[2],\"(\",np.round(Saved_Info[n,2,1]), np.round(Saved_Info[n,2,2]), np.round(Saved_Info[n,2,3]),\")\", \"   \",F[3],\"(\",np.round(Saved_Info[n,3,1]), np.round(Saved_Info[n,3,2]), np.round(Saved_Info[n,3,3]),\")\", \"   \",F[4],\"(\",np.round(Saved_Info[n,4,1]), np.round(Saved_Info[n,4,2]), np.round(Saved_Info[n,4,3]),\")\")\n",
    "\n"
   ]
  },
  {
   "cell_type": "code",
   "execution_count": 15,
   "metadata": {},
   "outputs": [
    {
     "data": {
      "image/png": "[encoded data removed]",
      "text/plain": [
       "<Figure size 640x480 with 1 Axes>"
      ]
     },
     "metadata": {},
     "output_type": "display_data"
    }
   ],
   "source": [
    "import matplotlib.pyplot as plt\n",
    "import numpy as np\n",
    "\n",
    "x = back_view\n",
    "Forecasts = [\"Spot\", \"FD1_down\", \"FD2_down\", \"FD1_up\", \"FD2_up\"]\n",
    "linewidth = 2.5\n",
    "marker_size = 14  # Adjust the marker size as desired\n",
    "\n",
    "# Plot for each feature\n",
    "for f in range(len(Forecasts)):\n",
    "    MAE_f = Saved_Info[:, f, 1]\n",
    "    std_f = Saved_Info[:, f, 3]\n",
    "    \n",
    "    plt.plot(x, MAE_f, marker='.', label=Forecasts[f], linewidth=linewidth, markersize =marker_size)\n",
    "\n",
    "plt.xlabel('$\\mathfrak{D}$ used in mean calculation [days]', fontsize=16)\n",
    "plt.ylabel('MAE [€/MW]', fontsize=16)\n",
    "plt.legend(loc='center right', bbox_to_anchor=(1.0, 0.6), prop={'size': 12})  # Locate the legend to the middle in the right part of the plot\n",
    "# Set the y-axis tick size\n",
    "plt.xticks([0,10,20,30,40,50,60,70,80,90,100], fontsize=12)\n",
    "plt.tick_params(axis='y', which='major', labelsize=14)\n",
    "plt.savefig('forecast_mean_D.pdf', format=\"pdf\", bbox_inches=\"tight\")\n",
    "plt.show()\n"
   ]
  },
  {
   "attachments": {},
   "cell_type": "markdown",
   "metadata": {},
   "source": [
    "# Non-linear Feature transformation"
   ]
  },
  {
   "cell_type": "code",
   "execution_count": null,
   "metadata": {},
   "outputs": [],
   "source": [
    "from sklearn.preprocessing import PolynomialFeatures\n",
    "transformer = PolynomialFeatures(degree=2, include_bias=False)\n",
    "cols = [\"Spot\",\"FD1_down\",\"FD2_down\",\"FD1_up\",\"FD2_up\"]\n",
    "\n",
    "transformed_data = transformer.fit_transform(data[cols])\n",
    "transformed_cols = transformer.get_feature_names_out(cols).tolist() # Output it as a list and not numpy array\n",
    "transformed_df = pd.DataFrame(transformed_data, columns=transformed_cols)\n",
    "transformed_df.to_csv(path_processed_data + \"PolynomialFeatures.csv\", sep=',', header=True, index_label='Hour')\n",
    "print(transformed_df)"
   ]
  }
 ],
 "metadata": {
  "kernelspec": {
   "display_name": "Python 3",
   "language": "python",
   "name": "python3"
  },
  "language_info": {
   "codemirror_mode": {
    "name": "ipython",
    "version": 3
   },
   "file_extension": ".py",
   "mimetype": "text/x-python",
   "name": "python",
   "nbconvert_exporter": "python",
   "pygments_lexer": "ipython3",
   "version": "3.9.13"
  },
  "orig_nbformat": 4
 },
 "nbformat": 4,
 "nbformat_minor": 2
}
