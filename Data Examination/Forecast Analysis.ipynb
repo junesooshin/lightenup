{
 "cells": [
  {
   "attachments": {},
   "cell_type": "markdown",
   "metadata": {},
   "source": [
    "# EXAMPLE \n",
    "\n",
    "For practical implementation:\n",
    "https://scikit-learn.org/stable/auto_examples/linear_model/plot_polynomial_interpolation.html\n",
    "\n",
    "For theoretical knowledge of spline:\n",
    "https://timodenk.com/blog/cubic-spline-interpolation/\n"
   ]
  },
  {
   "cell_type": "code",
   "execution_count": 1,
   "metadata": {},
   "outputs": [],
   "source": [
    "# Author: Mathieu Blondel\n",
    "#         Jake Vanderplas\n",
    "#         Christian Lorentzen\n",
    "#         Malte Londschien\n",
    "# License: BSD 3 clause\n",
    "\n",
    "import numpy as np\n",
    "import matplotlib.pyplot as plt\n",
    "import pandas as pd\n",
    "from sklearn.linear_model import Ridge\n",
    "from sklearn.preprocessing import PolynomialFeatures, SplineTransformer\n",
    "from sklearn.pipeline import make_pipeline\n",
    "import os\n",
    "import matplotlib.lines as mlines\n"
   ]
  },
  {
   "cell_type": "code",
   "execution_count": 2,
   "metadata": {},
   "outputs": [],
   "source": [
    "\n",
    "desktop = os.path.join(os.path.join(os.environ['USERPROFILE']), 'Desktop') \n",
    "#print(os.getcwd())\n",
    "This_file_path = os.getcwd()\n",
    "total_string_len = len(This_file_path)\n",
    "#print(total_string_len)\n",
    "\n",
    "string_len_to_remove = len(\"Data Examination\")\n",
    "#print(string_len_to_remove)\n",
    "\n",
    "path = This_file_path[0:(total_string_len-string_len_to_remove)]\n",
    "#print(path)\n",
    "path_processed_data = path + \"Processed_data\\\\\"\n",
    "#print(path_processed_data)"
   ]
  },
  {
   "attachments": {},
   "cell_type": "markdown",
   "metadata": {},
   "source": [
    "# Set up FCR-D forecast. Mean for the past 5 days.\n",
    "- At D-2 it is past 5 days, meaning 7 days from what to predict.\n",
    "- At D-1 it is the past 5 days, meaning 6 days from what to predict"
   ]
  },
  {
   "cell_type": "code",
   "execution_count": 3,
   "metadata": {},
   "outputs": [],
   "source": [
    "data = pd.read_csv(path_processed_data + 'real.csv') # Change path\n",
    "#print(data)\n",
    "#data = data.fillna(0) \n",
    "#data_cop = data.copy()\n",
    "data = data.drop(columns=[\"Hour\"])\n",
    "#setup_forecast = data_cop.drop(columns=[\"Hour\"])\n",
    "True_data = data.loc[8760:].reset_index(drop=True)\n",
    "True_data_arr = True_data.to_numpy()\n",
    "#Spot_data = True_data['Spot']\n"
   ]
  },
  {
   "cell_type": "code",
   "execution_count": 22,
   "metadata": {},
   "outputs": [
    {
     "name": "stdout",
     "output_type": "stream",
     "text": [
      "2160 11 1\n",
      "(2160, 11, 1)\n"
     ]
    }
   ],
   "source": [
    "Forecast_number = [1]\n",
    "Forecasts = [\"Spot\",\"FD1_down\",\"FD2_down\",\"FD1_up\",\"FD2_up\",\"FD1_up_percentage\",\"FD2_up_percentage\",\"FD1_down_percentage\",\"FD2_down_percentage\",\"FD_act_up\",\"FD_act_down\"]\n",
    "Noise_factor = [0]\n",
    "Total_length_test = len(data[\"FD1_down\"]) - 8760\n",
    "\n",
    "# Create an empty dataframe with the same columns as `data`\n",
    "print(Total_length_test,len(Forecasts),len(Forecast_number))\n",
    "forecasted_data_3D = np.zeros(( Total_length_test, len(Forecasts), len(Forecast_number) ))  # (Specific Forecasts, Data size, number of total forecasts )\n",
    "\n",
    "print(np.shape(forecasted_data_3D))"
   ]
  },
  {
   "cell_type": "code",
   "execution_count": null,
   "metadata": {},
   "outputs": [],
   "source": []
  },
  {
   "cell_type": "code",
   "execution_count": 23,
   "metadata": {},
   "outputs": [
    {
     "name": "stdout",
     "output_type": "stream",
     "text": [
      "0.019946298427311\n",
      "0.1574614065180103\n",
      "0.1023413897280966\n",
      "0.170522707797772\n",
      "0.1460154241645244\n"
     ]
    }
   ],
   "source": [
    "h = 0\n",
    "col = \"FD1_up_percentage\"\n",
    "HD = [3,4,5,6,7]\n",
    "for hd in HD:\n",
    "    print(data.loc[h+8760-hd*24, col])"
   ]
  },
  {
   "cell_type": "code",
   "execution_count": 24,
   "metadata": {},
   "outputs": [
    {
     "name": "stdout",
     "output_type": "stream",
     "text": [
      "Forecasts for  Spot  ended\n",
      "Forecasts for  FD1_down  ended\n",
      "Forecasts for  FD2_down  ended\n",
      "Forecasts for  FD1_up  ended\n",
      "Forecasts for  FD2_up  ended\n",
      "Forecasts for  FD1_up_percentage  ended\n",
      "Forecasts for  FD2_up_percentage  ended\n",
      "Forecasts for  FD1_down_percentage  ended\n",
      "Forecasts for  FD2_down_percentage  ended\n",
      "Forecasts for  FD_act_up  ended\n",
      "Forecasts for  FD_act_down  ended\n"
     ]
    }
   ],
   "source": [
    "index_FD1_up_percentage = Forecasts.index(\"FD1_up_percentage\")\n",
    "index_FD1_down_percentage = Forecasts.index(\"FD1_down_percentage\")\n",
    "std_col = np.std(data.loc[:, :],axis=0)\n",
    "D_2_list = [3,4,5,6,7]\n",
    "\n",
    "for col in data.columns:\n",
    "    index = Forecasts.index(col) # Get the index\n",
    "\n",
    "    for n, noise in enumerate(Noise_factor): # For each noise factor / forecast\n",
    "    \n",
    "    \n",
    "        # Run mean procedure\n",
    "\n",
    "        # As the volumes need to add up to 100% then is it only the D-1 which has been forecasted as t\n",
    "        if 'percentage' in col:\n",
    "                if \"FD2\" in col:\n",
    "                    if \"up\" in col:\n",
    "                        forecasted_data_3D[:,index,n] = 1 - forecasted_data_3D[:,index_FD1_up_percentage,n]\n",
    "                    else:\n",
    "                        forecasted_data_3D[:,index,n] = 1 - forecasted_data_3D[:,index_FD1_down_percentage,n]\n",
    "                        #forecasted_data.loc[h, col] = 1 - forecasted_data.loc[h, 'FD1_down_percentage']\n",
    "                else:\n",
    "                    for h in range(0,Total_length_test):\n",
    "                        value = 0\n",
    "                        for hd in D_2_list:\n",
    "\n",
    "                            #print(data.loc[h+8760-hd*24, col])\n",
    "                            #print(h+8760-hd*24)\n",
    "                            value = value + data.loc[h+8760-hd*24, col]\n",
    "                        \n",
    "                        forecasted_data_3D[h,index,n] = value/len(D_2_list)\n",
    "\n",
    "        else:\n",
    "\n",
    "            for h in range(0,Total_length_test):\n",
    "                value = 0\n",
    "                for hd in D_2_list:\n",
    "\n",
    "                    #print(data.loc[h+8760-hd*24, col])\n",
    "                    #print(h+8760-hd*24)\n",
    "                    value = value + data.loc[h+8760-hd*24, col]\n",
    "                \n",
    "                forecasted_data_3D[h,index,n] = value/len(D_2_list)\n",
    "\n",
    "\n",
    "    print(\"Forecasts for \", col, \" ended\")\n",
    "\n",
    "            \n",
    "    "
   ]
  },
  {
   "cell_type": "code",
   "execution_count": 35,
   "metadata": {},
   "outputs": [
    {
     "name": "stdout",
     "output_type": "stream",
     "text": [
      "(2160, 11, 1)\n",
      "[[0.11925745]\n",
      " [0.08343594]\n",
      " [0.10093695]\n",
      " ...\n",
      " [0.19614269]\n",
      " [0.19702464]\n",
      " [0.19716236]]\n"
     ]
    }
   ],
   "source": [
    "print(np.shape(forecasted_data_3D[:,:]))\n",
    "print(forecasted_data_3D[:,5])\n",
    "#print(forecasted_data_3D[:,5,1])"
   ]
  },
  {
   "cell_type": "code",
   "execution_count": 36,
   "metadata": {},
   "outputs": [
    {
     "name": "stdout",
     "output_type": "stream",
     "text": [
      "Forecast  0      Spot ( 51.0 46.0 34.0 )     FD1_down ( 46.0 8.0 113.0 )     FD2_down ( 6.0 2.0 10.0 )     FD1_up ( 18.0 10.0 27.0 )     FD2_up ( 3.0 2.0 3.0 )\n"
     ]
    }
   ],
   "source": [
    "Forecast_number = [1, 2, 3, 4, 5, 6]\n",
    "N_len = np.size(forecasted_data_3D[:,:,:],2) # Number of forecasts\n",
    "F_len = np.size(forecasted_data_3D[:,:,:],1) # Number of features\n",
    "T_len = np.size(forecasted_data_3D[:,:,:],0) # length of test data\n",
    "Saved_Info = np.zeros((N_len,F_len ,(1+1+1+1) ) ) # Number of different forecast noise, Features and col = (noise type, MAE, MedianEA, Std) \n",
    "F = data.columns\n",
    "for n in range(0,N_len): # For each forecast factor\n",
    "\n",
    "    for f in range(0,F_len): # For each type of forecast, spot, FD2 Down so forth..\n",
    "\n",
    "        errors = (True_data_arr[:,f] - forecasted_data_3D[:,f,n])\n",
    "\n",
    "        MAE_h  =np.abs(errors)\n",
    "        #MAPE_h = np.abs( (errors) / (True_data_arr[:,f]) ) * 100\n",
    "        \n",
    "        #MAPE = np.mean(MAPE_h)\n",
    "        MAE = np.mean(MAE_h)\n",
    "        \n",
    "        #Median_APE = np.median(MAPE_h)\n",
    "        Median_AE = np.median(MAE_h)\n",
    "\n",
    "        #Std_APE = np.std(MAPE_h)\n",
    "        Std_AE = np.std(MAE_h)\n",
    "    \n",
    "\n",
    "\n",
    "        \n",
    "        #df_describe = pd.DataFrame(MAPE_h)\n",
    "        #print(\"         \", \"Noise factor\", \" Feature\",\"    Mean    \",\"        Median        \", \"      Std      \")\n",
    "        #print(\"Forecast-\", Forecast_number[n], \"-\", Noise_factor[n],\"    \",F[f],\"   \", np.round(MAE), \" \", np.round(Median_AE), \" \", np.round(Std_AE))\n",
    "        #print()\n",
    "            \n",
    "        # Save the proper data\n",
    "        Saved_Info[n,f,0] = n \n",
    "        Saved_Info[n,f,1] = MAE\n",
    "        Saved_Info[n,f,2] = Median_AE\n",
    "        Saved_Info[n,f,3] = Std_AE\n",
    "\n",
    "\n",
    "#print(Saved_Info)\n",
    "\n",
    "\n",
    "for n in range(0,N_len):\n",
    "    print(\"Forecast \",n, \"    \",F[0],\"(\",np.round(Saved_Info[n,0,1]), np.round(Saved_Info[n,0,2]), np.round(Saved_Info[n,0,3]),\")\", \"   \",F[1],\"(\",np.round(Saved_Info[n,1,1]), np.round(Saved_Info[n,1,2]), np.round(Saved_Info[n,1,3]),\")\", \"   \",F[2],\"(\",np.round(Saved_Info[n,2,1]), np.round(Saved_Info[n,2,2]), np.round(Saved_Info[n,2,3]),\")\", \"   \",F[3],\"(\",np.round(Saved_Info[n,3,1]), np.round(Saved_Info[n,3,2]), np.round(Saved_Info[n,3,3]),\")\", \"   \",F[4],\"(\",np.round(Saved_Info[n,4,1]), np.round(Saved_Info[n,4,2]), np.round(Saved_Info[n,4,3]),\")\")\n",
    "\n"
   ]
  },
  {
   "attachments": {},
   "cell_type": "markdown",
   "metadata": {},
   "source": [
    "## plotting the error"
   ]
  },
  {
   "cell_type": "code",
   "execution_count": 42,
   "metadata": {},
   "outputs": [
    {
     "data": {
      "image/png": "[encoded data removed]",
      "text/plain": [
       "<Figure size 640x480 with 1 Axes>"
      ]
     },
     "metadata": {},
     "output_type": "display_data"
    }
   ],
   "source": [
    "x = np.array(Forecast_number)\n",
    "\n",
    "# plot for each feature\n",
    "for f in range(0,F_len-6):\n",
    "    \n",
    "    MAE_f = Saved_Info[:,f,1]\n",
    "    std_f = Saved_Info[:,f,3]\n",
    "    plt.plot(x, MAE_f, label=F[f], marker='.')\n",
    "    plt.fill_between(x, MAE_f-std_f, MAE_f-std_f, alpha=0.2)\n",
    "\n",
    "plt.legend()\n",
    "plt.show()"
   ]
  },
  {
   "attachments": {},
   "cell_type": "markdown",
   "metadata": {},
   "source": [
    "## Plot the hourly mean method"
   ]
  },
  {
   "attachments": {},
   "cell_type": "markdown",
   "metadata": {},
   "source": [
    "# Create a csv file for forecasted values of D-2"
   ]
  },
  {
   "cell_type": "code",
   "execution_count": 37,
   "metadata": {},
   "outputs": [],
   "source": [
    "\n",
    "Noise_factor = [0.1, 0.5, 1, 2, 4, 8]\n",
    "Forecast_number = [1, 2, 3, 4, 5, 6]\n",
    "N_len = np.size(forecasted_data_3D[:,:,:],2)\n",
    "F_len = np.size(forecasted_data_3D[:,:,:],0)\n",
    "Saved_Info = np.zeros((N_len,F_len ,(1+1+1+1) ) ) # Number of different forecast noise, Features and col = (noise type, MAE, MedianEA, Std) \n",
    "F = data.columns\n",
    "for n in range(0,N_len): # For each forecast factor\n",
    "\n",
    "    # change forecasted_data_3D to a dataframe\n",
    "    df_forecast = pd.DataFrame(forecasted_data_3D[:,:,n], columns=F)\n",
    "    \n",
    "    #Create csv\n",
    "    csv_name_path = path_processed_data+\"forecast\"+str(Forecast_number[n])+\".csv\"\n",
    "    df_forecast.to_csv(csv_name_path,index=False)"
   ]
  }
 ],
 "metadata": {
  "kernelspec": {
   "display_name": "Python 3",
   "language": "python",
   "name": "python3"
  },
  "language_info": {
   "codemirror_mode": {
    "name": "ipython",
    "version": 3
   },
   "file_extension": ".py",
   "mimetype": "text/x-python",
   "name": "python",
   "nbconvert_exporter": "python",
   "pygments_lexer": "ipython3",
   "version": "3.9.13"
  },
  "orig_nbformat": 4
 },
 "nbformat": 4,
 "nbformat_minor": 2
}
