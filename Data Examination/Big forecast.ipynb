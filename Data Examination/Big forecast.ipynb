{
 "cells": [
  {
   "attachments": {},
   "cell_type": "markdown",
   "metadata": {},
   "source": [
    "# Forecast\n",
    "\n",
    "For practical implementation:\n",
    "https://scikit-learn.org/stable/auto_examples/linear_model/plot_polynomial_interpolation.html\n",
    "\n",
    "For theoretical knowledge of spline:\n",
    "https://timodenk.com/blog/cubic-spline-interpolation/\n"
   ]
  },
  {
   "cell_type": "code",
   "execution_count": 1,
   "metadata": {},
   "outputs": [],
   "source": [
    "import numpy as np\n",
    "import matplotlib.pyplot as plt\n",
    "import pandas as pd\n",
    "from sklearn.linear_model import Ridge\n",
    "from sklearn.preprocessing import PolynomialFeatures, SplineTransformer\n",
    "from sklearn.pipeline import make_pipeline\n",
    "import os\n",
    "import matplotlib.lines as mlines\n",
    "import seaborn as sns\n"
   ]
  },
  {
   "cell_type": "code",
   "execution_count": 2,
   "metadata": {},
   "outputs": [],
   "source": [
    "\n",
    "desktop = os.path.join(os.path.join(os.environ['USERPROFILE']), 'Desktop') \n",
    "#print(os.getcwd())\n",
    "This_file_path = os.getcwd()\n",
    "total_string_len = len(This_file_path)\n",
    "#print(total_string_len)\n",
    "\n",
    "string_len_to_remove = len(\"Data Examination\")\n",
    "#print(string_len_to_remove)\n",
    "\n",
    "path = This_file_path[0:(total_string_len-string_len_to_remove)]\n",
    "#print(path)\n",
    "path_processed_data = path + \"Processed_data\\\\\"\n",
    "#print(path_processed_data)"
   ]
  },
  {
   "attachments": {},
   "cell_type": "markdown",
   "metadata": {},
   "source": [
    "# Set up FCR-D forecast. Mean for the past 5 days.\n",
    "- At D-2 it is past 5 days, meaning 7 days from what to predict.\n",
    "- At D-1 it is the past 5 days, meaning 6 days from what to predict"
   ]
  },
  {
   "cell_type": "code",
   "execution_count": 4,
   "metadata": {},
   "outputs": [],
   "source": [
    "data = pd.read_csv(path_processed_data + 'real.csv') # Change path\n",
    "#print(data)\n",
    "#data = data.fillna(0) \n",
    "#data_cop = data.copy()\n",
    "data = data.drop(columns=[\"Hour\"])\n",
    "#setup_forecast = data_cop.drop(columns=[\"Hour\"])\n",
    "True_data = data\n",
    "True_data_arr = True_data.to_numpy()\n"
   ]
  },
  {
   "cell_type": "code",
   "execution_count": 5,
   "metadata": {},
   "outputs": [
    {
     "name": "stdout",
     "output_type": "stream",
     "text": [
      "10920 11 6\n",
      "(10920, 11, 6)\n"
     ]
    }
   ],
   "source": [
    "Forecast_number = [1,2,3,4,5,6]\n",
    "Forecasts = [\"Spot\",\"FD1_down\",\"FD2_down\",\"FD1_up\",\"FD2_up\",\"FD1_up_percentage\",\"FD2_up_percentage\",\"FD1_down_percentage\",\"FD2_down_percentage\",\"FD_act_up\",\"FD_act_down\"]\n",
    "Noise_factor = [0,0.1,0.3,0.5,1,2]\n",
    "Total_length_test = len(data[\"FD1_down\"])\n",
    "\n",
    "# Create an empty dataframe with the same columns as `data`\n",
    "print(Total_length_test,len(Forecasts),len(Forecast_number))\n",
    "forecasted_data_3D = np.zeros(( Total_length_test, len(Forecasts), len(Forecast_number) ))  # (Specific Forecasts, Data size, number of total forecasts )\n",
    "\n",
    "print(np.shape(forecasted_data_3D))"
   ]
  },
  {
   "cell_type": "code",
   "execution_count": 6,
   "metadata": {},
   "outputs": [
    {
     "name": "stdout",
     "output_type": "stream",
     "text": [
      "(10920, 11, 6)\n"
     ]
    }
   ],
   "source": [
    "# Create noise\n",
    "std_col = np.std(data.loc[:, :],axis=0)\n",
    "Uniform_Noise = np.random.uniform(-1, 1, (Total_length_test, len(Forecasts), len(Forecast_number)) )\n",
    "print(np.shape(Uniform_Noise))"
   ]
  },
  {
   "cell_type": "code",
   "execution_count": 7,
   "metadata": {},
   "outputs": [
    {
     "name": "stdout",
     "output_type": "stream",
     "text": [
      "Forecasts for  Spot  ended\n",
      "Forecasts for  FD1_down  ended\n",
      "Forecasts for  FD2_down  ended\n",
      "Forecasts for  FD1_up  ended\n",
      "Forecasts for  FD2_up  ended\n",
      "Forecasts for  FD1_up_percentage  ended\n",
      "Forecasts for  FD2_up_percentage  ended\n",
      "Forecasts for  FD1_down_percentage  ended\n",
      "Forecasts for  FD2_down_percentage  ended\n",
      "Forecasts for  FD_act_up  ended\n",
      "Forecasts for  FD_act_down  ended\n"
     ]
    }
   ],
   "source": [
    "index_FD1_up_percentage = Forecasts.index(\"FD1_up_percentage\")\n",
    "index_FD1_down_percentage = Forecasts.index(\"FD1_down_percentage\")\n",
    "\n",
    "D_2_list = [3,4,5,6,7]\n",
    "\n",
    "for col in data.columns:\n",
    "    index = Forecasts.index(col) # Get the index\n",
    "\n",
    "    for n, noise in enumerate(Noise_factor): # For each noise factor / forecast\n",
    "    \n",
    "    \n",
    "        # Run mean procedure\n",
    "\n",
    "        # As the volumes need to add up to 100% then is it only the D-1 which has been forecasted as t\n",
    "        if 'percentage' in col:\n",
    "                if \"FD2\" in col:\n",
    "                    if \"up\" in col:\n",
    "                        forecasted_data_3D[:,index,n] = 1 - forecasted_data_3D[:,index_FD1_up_percentage,n]\n",
    "                    else:\n",
    "                        forecasted_data_3D[:,index,n] = 1 - forecasted_data_3D[:,index_FD1_down_percentage,n]\n",
    "                        #forecasted_data.loc[h, col] = 1 - forecasted_data.loc[h, 'FD1_down_percentage']\n",
    "                else:\n",
    "                    for h in range(24*7,Total_length_test): # Should start \n",
    "                        value = 0\n",
    "                        for hd in D_2_list:\n",
    "\n",
    "                            #print(data.loc[h+8760-hd*24, col])\n",
    "                            #print(h+8760-hd*24)\n",
    "                            value = value + data.loc[h + 0 -hd*24, col] + std_col[col] * noise * Uniform_Noise[h,index,n]\n",
    "                        \n",
    "                        forecasted_data_3D[h,index,n] = value/len(D_2_list)\n",
    "\n",
    "        else:\n",
    "\n",
    "            for h in range(24*7,Total_length_test):\n",
    "                value = 0\n",
    "                for hd in D_2_list:\n",
    "\n",
    "                    #print(data.loc[h+8760-hd*24, col])\n",
    "                    #print(h+8760-hd*24)\n",
    "                    value = value + data.loc[h+0-hd*24, col] + std_col[col] * noise * Uniform_Noise[h,index,n]\n",
    "                \n",
    "                forecasted_data_3D[h,index,n] = value/len(D_2_list)\n",
    "\n",
    "\n",
    "    print(\"Forecasts for \", col, \" ended\")\n",
    "\n",
    "            \n",
    "    "
   ]
  },
  {
   "cell_type": "code",
   "execution_count": 8,
   "metadata": {},
   "outputs": [
    {
     "name": "stdout",
     "output_type": "stream",
     "text": [
      "Forecast  0      Spot ( 81.0 63.0 70.0 )     FD1_down ( 34.0 9.0 84.0 )     FD2_down ( 8.0 3.0 13.0 )     FD1_up ( 29.0 16.0 41.0 )     FD2_up ( 8.0 4.0 10.0 )\n",
      "Forecast  1      Spot ( 81.0 64.0 70.0 )     FD1_down ( 35.0 11.0 83.0 )     FD2_down ( 8.0 3.0 13.0 )     FD1_up ( 29.0 16.0 41.0 )     FD2_up ( 8.0 4.0 10.0 )\n",
      "Forecast  2      Spot ( 84.0 66.0 71.0 )     FD1_down ( 39.0 19.0 83.0 )     FD2_down ( 9.0 5.0 13.0 )     FD1_up ( 31.0 18.0 41.0 )     FD2_up ( 9.0 7.0 10.0 )\n",
      "Forecast  3      Spot ( 88.0 70.0 74.0 )     FD1_down ( 45.0 28.0 82.0 )     FD2_down ( 11.0 8.0 12.0 )     FD1_up ( 34.0 22.0 41.0 )     FD2_up ( 12.0 10.0 10.0 )\n",
      "Forecast  4      Spot ( 107.0 90.0 82.0 )     FD1_down ( 63.0 48.0 83.0 )     FD2_down ( 15.0 13.0 13.0 )     FD1_up ( 44.0 35.0 42.0 )     FD2_up ( 19.0 18.0 13.0 )\n",
      "Forecast  5      Spot ( 165.0 150.0 111.0 )     FD1_down ( 103.0 93.0 91.0 )     FD2_down ( 26.0 24.0 17.0 )     FD1_up ( 67.0 61.0 51.0 )     FD2_up ( 34.0 34.0 20.0 )\n"
     ]
    }
   ],
   "source": [
    "Forecast_number = [1, 2, 3, 4, 5, 6]\n",
    "N_len = np.size(forecasted_data_3D[:,:,:],2) # Number of forecasts\n",
    "F_len = np.size(forecasted_data_3D[:,:,:],1) # Number of features\n",
    "T_len = np.size(forecasted_data_3D[:,:,:],0) # length of test data\n",
    "Saved_Info = np.zeros((N_len,F_len ,(1+1+1+1) ) ) # Number of different forecast noise, Features and col = (noise type, MAE, MedianEA, Std) \n",
    "F = data.columns\n",
    "for n in range(0,N_len): # For each forecast factor\n",
    "\n",
    "    for f in range(0,F_len): # For each type of forecast, spot, FD2 Down so forth..\n",
    "\n",
    "        errors = (True_data_arr[:,f] - forecasted_data_3D[:,f,n])\n",
    "\n",
    "        MAE_h  =np.abs(errors)\n",
    "        #MAPE_h = np.abs( (errors) / (True_data_arr[:,f]) ) * 100\n",
    "        \n",
    "        #MAPE = np.mean(MAPE_h)\n",
    "        MAE = np.mean(MAE_h)\n",
    "        \n",
    "        #Median_APE = np.median(MAPE_h)\n",
    "        Median_AE = np.median(MAE_h)\n",
    "\n",
    "        #Std_APE = np.std(MAPE_h)\n",
    "        Std_AE = np.std(MAE_h)\n",
    "    \n",
    "\n",
    "\n",
    "        \n",
    "        #df_describe = pd.DataFrame(MAPE_h)\n",
    "        #print(\"         \", \"Noise factor\", \" Feature\",\"    Mean    \",\"        Median        \", \"      Std      \")\n",
    "        #print(\"Forecast-\", Forecast_number[n], \"-\", Noise_factor[n],\"    \",F[f],\"   \", np.round(MAE), \" \", np.round(Median_AE), \" \", np.round(Std_AE))\n",
    "        #print()\n",
    "            \n",
    "        # Save the proper data\n",
    "        Saved_Info[n,f,0] = n \n",
    "        Saved_Info[n,f,1] = MAE\n",
    "        Saved_Info[n,f,2] = Median_AE\n",
    "        Saved_Info[n,f,3] = Std_AE\n",
    "\n",
    "\n",
    "#print(Saved_Info)\n",
    "\n",
    "\n",
    "for n in range(0,N_len):\n",
    "    print(\"Forecast \",n, \"    \",F[0],\"(\",np.round(Saved_Info[n,0,1]), np.round(Saved_Info[n,0,2]), np.round(Saved_Info[n,0,3]),\")\", \"   \",F[1],\"(\",np.round(Saved_Info[n,1,1]), np.round(Saved_Info[n,1,2]), np.round(Saved_Info[n,1,3]),\")\", \"   \",F[2],\"(\",np.round(Saved_Info[n,2,1]), np.round(Saved_Info[n,2,2]), np.round(Saved_Info[n,2,3]),\")\", \"   \",F[3],\"(\",np.round(Saved_Info[n,3,1]), np.round(Saved_Info[n,3,2]), np.round(Saved_Info[n,3,3]),\")\", \"   \",F[4],\"(\",np.round(Saved_Info[n,4,1]), np.round(Saved_Info[n,4,2]), np.round(Saved_Info[n,4,3]),\")\")\n",
    "\n"
   ]
  },
  {
   "attachments": {},
   "cell_type": "markdown",
   "metadata": {},
   "source": [
    "## plotting the error"
   ]
  },
  {
   "cell_type": "code",
   "execution_count": 9,
   "metadata": {},
   "outputs": [
    {
     "data": {
      "image/png": "[encoded data removed]",
      "text/plain": [
       "<Figure size 640x480 with 1 Axes>"
      ]
     },
     "metadata": {},
     "output_type": "display_data"
    }
   ],
   "source": [
    "x = np.array(Forecast_number)\n",
    "\n",
    "# plot for each feature\n",
    "for f in range(0,F_len-6):\n",
    "    \n",
    "    MAE_f = Saved_Info[:,f,1]\n",
    "    std_f = Saved_Info[:,f,3]\n",
    "    plt.plot(x, MAE_f, label=F[f], marker='.')\n",
    "    plt.fill_between(x, MAE_f-std_f, MAE_f-std_f, alpha=0.2)\n",
    "\n",
    "plt.legend()\n",
    "plt.show()"
   ]
  },
  {
   "attachments": {},
   "cell_type": "markdown",
   "metadata": {},
   "source": [
    "## Plot the hourly mean method"
   ]
  },
  {
   "attachments": {},
   "cell_type": "markdown",
   "metadata": {},
   "source": [
    "# Create a csv file for forecasted values of D-2"
   ]
  },
  {
   "cell_type": "code",
   "execution_count": 10,
   "metadata": {},
   "outputs": [],
   "source": [
    "\n",
    "N_len = np.size(forecasted_data_3D[:,:,:],2)\n",
    "F_len = np.size(forecasted_data_3D[:,:,:],0)\n",
    "Saved_Info = np.zeros((N_len,F_len ,(1+1+1+1) ) ) # Number of different forecast noise, Features and col = (noise type, MAE, MedianEA, Std) \n",
    "F = data.columns\n",
    "for n in range(0,N_len): # For each forecast factor\n",
    "\n",
    "    # change forecasted_data_3D to a dataframe\n",
    "    df_forecast = pd.DataFrame(forecasted_data_3D[:,:,n], columns=F)\n",
    "    \n",
    "    #Create csv\n",
    "    csv_name_path = path_processed_data+\"forecast_all\"+str(Forecast_number[n])+\".csv\"\n",
    "    df_forecast.to_csv(csv_name_path,index=False)"
   ]
  },
  {
   "attachments": {},
   "cell_type": "markdown",
   "metadata": {},
   "source": []
  },
  {
   "cell_type": "code",
   "execution_count": 15,
   "metadata": {},
   "outputs": [],
   "source": [
    "forecastall = pd.read_csv(path_processed_data+\"forecast_all1.csv\")\n",
    "real = pd.read_csv(path_processed_data+\"real.csv\")\n",
    "forecast = pd.read_csv(path_processed_data+\"forecast1.csv\")"
   ]
  },
  {
   "cell_type": "code",
   "execution_count": 12,
   "metadata": {},
   "outputs": [
    {
     "data": {
      "text/html": [
       "<div>\n",
       "<style scoped>\n",
       "    .dataframe tbody tr th:only-of-type {\n",
       "        vertical-align: middle;\n",
       "    }\n",
       "\n",
       "    .dataframe tbody tr th {\n",
       "        vertical-align: top;\n",
       "    }\n",
       "\n",
       "    .dataframe thead th {\n",
       "        text-align: right;\n",
       "    }\n",
       "</style>\n",
       "<table border=\"1\" class=\"dataframe\">\n",
       "  <thead>\n",
       "    <tr style=\"text-align: right;\">\n",
       "      <th></th>\n",
       "      <th>Spot</th>\n",
       "      <th>FD1_down</th>\n",
       "      <th>FD2_down</th>\n",
       "      <th>FD1_up</th>\n",
       "      <th>FD2_up</th>\n",
       "      <th>FD1_up_percentage</th>\n",
       "      <th>FD2_up_percentage</th>\n",
       "      <th>FD1_down_percentage</th>\n",
       "      <th>FD2_down_percentage</th>\n",
       "      <th>FD_act_up</th>\n",
       "      <th>FD_act_down</th>\n",
       "    </tr>\n",
       "  </thead>\n",
       "  <tbody>\n",
       "    <tr>\n",
       "      <th>0</th>\n",
       "      <td>48.395999</td>\n",
       "      <td>117.888344</td>\n",
       "      <td>24.715378</td>\n",
       "      <td>34.026604</td>\n",
       "      <td>46.672286</td>\n",
       "      <td>0.119257</td>\n",
       "      <td>0.880743</td>\n",
       "      <td>0.388463</td>\n",
       "      <td>0.611537</td>\n",
       "      <td>0.000150</td>\n",
       "      <td>0.000881</td>\n",
       "    </tr>\n",
       "    <tr>\n",
       "      <th>1</th>\n",
       "      <td>38.726000</td>\n",
       "      <td>260.829358</td>\n",
       "      <td>26.246510</td>\n",
       "      <td>33.685540</td>\n",
       "      <td>46.638952</td>\n",
       "      <td>0.083436</td>\n",
       "      <td>0.916564</td>\n",
       "      <td>0.339880</td>\n",
       "      <td>0.660120</td>\n",
       "      <td>0.000067</td>\n",
       "      <td>0.001852</td>\n",
       "    </tr>\n",
       "    <tr>\n",
       "      <th>2</th>\n",
       "      <td>30.066000</td>\n",
       "      <td>257.748204</td>\n",
       "      <td>26.512626</td>\n",
       "      <td>32.520516</td>\n",
       "      <td>46.482934</td>\n",
       "      <td>0.100937</td>\n",
       "      <td>0.899063</td>\n",
       "      <td>0.338603</td>\n",
       "      <td>0.661397</td>\n",
       "      <td>0.000290</td>\n",
       "      <td>0.000225</td>\n",
       "    </tr>\n",
       "    <tr>\n",
       "      <th>3</th>\n",
       "      <td>23.825999</td>\n",
       "      <td>255.265618</td>\n",
       "      <td>26.493986</td>\n",
       "      <td>39.008504</td>\n",
       "      <td>46.507578</td>\n",
       "      <td>0.130143</td>\n",
       "      <td>0.869857</td>\n",
       "      <td>0.343053</td>\n",
       "      <td>0.656947</td>\n",
       "      <td>0.000634</td>\n",
       "      <td>0.004800</td>\n",
       "    </tr>\n",
       "    <tr>\n",
       "      <th>4</th>\n",
       "      <td>23.381999</td>\n",
       "      <td>219.311912</td>\n",
       "      <td>26.476464</td>\n",
       "      <td>39.555956</td>\n",
       "      <td>46.536942</td>\n",
       "      <td>0.121324</td>\n",
       "      <td>0.878676</td>\n",
       "      <td>0.340698</td>\n",
       "      <td>0.659302</td>\n",
       "      <td>0.000069</td>\n",
       "      <td>0.006563</td>\n",
       "    </tr>\n",
       "  </tbody>\n",
       "</table>\n",
       "</div>"
      ],
      "text/plain": [
       "        Spot    FD1_down   FD2_down     FD1_up     FD2_up  FD1_up_percentage   \n",
       "0  48.395999  117.888344  24.715378  34.026604  46.672286           0.119257  \\\n",
       "1  38.726000  260.829358  26.246510  33.685540  46.638952           0.083436   \n",
       "2  30.066000  257.748204  26.512626  32.520516  46.482934           0.100937   \n",
       "3  23.825999  255.265618  26.493986  39.008504  46.507578           0.130143   \n",
       "4  23.381999  219.311912  26.476464  39.555956  46.536942           0.121324   \n",
       "\n",
       "   FD2_up_percentage  FD1_down_percentage  FD2_down_percentage  FD_act_up   \n",
       "0           0.880743             0.388463             0.611537   0.000150  \\\n",
       "1           0.916564             0.339880             0.660120   0.000067   \n",
       "2           0.899063             0.338603             0.661397   0.000290   \n",
       "3           0.869857             0.343053             0.656947   0.000634   \n",
       "4           0.878676             0.340698             0.659302   0.000069   \n",
       "\n",
       "   FD_act_down  \n",
       "0     0.000881  \n",
       "1     0.001852  \n",
       "2     0.000225  \n",
       "3     0.004800  \n",
       "4     0.006563  "
      ]
     },
     "execution_count": 12,
     "metadata": {},
     "output_type": "execute_result"
    }
   ],
   "source": [
    "forecast.head()"
   ]
  },
  {
   "cell_type": "code",
   "execution_count": 14,
   "metadata": {},
   "outputs": [
    {
     "data": {
      "text/plain": [
       "Spot         48.395999\n",
       "FD1_down    117.888344\n",
       "FD2_down     24.715378\n",
       "FD1_up       34.026604\n",
       "FD2_up       46.672286\n",
       "Name: 8760, dtype: float64"
      ]
     },
     "execution_count": 14,
     "metadata": {},
     "output_type": "execute_result"
    }
   ],
   "source": [
    "forecastall.loc[8760].head()"
   ]
  },
  {
   "cell_type": "code",
   "execution_count": 21,
   "metadata": {},
   "outputs": [
    {
     "name": "stdout",
     "output_type": "stream",
     "text": [
      "Spot          8.216000\n",
      "FD1_down    454.693874\n",
      "FD2_down     53.548256\n",
      "FD1_up       58.432512\n",
      "FD2_up       47.163418\n",
      "Name: 8833, dtype: float64\n"
     ]
    },
    {
     "data": {
      "text/plain": [
       "Hour        8833.000000\n",
       "Spot          78.839996\n",
       "FD1_down      24.025830\n",
       "FD2_down      28.341100\n",
       "FD1_up        39.537930\n",
       "Name: 8833, dtype: float64"
      ]
     },
     "execution_count": 21,
     "metadata": {},
     "output_type": "execute_result"
    }
   ],
   "source": [
    "print(forecastall.loc[8760+24*3+1].head())\n",
    "real.loc[8760+24*3+1].head()"
   ]
  }
 ],
 "metadata": {
  "kernelspec": {
   "display_name": "Python 3",
   "language": "python",
   "name": "python3"
  },
  "language_info": {
   "codemirror_mode": {
    "name": "ipython",
    "version": 3
   },
   "file_extension": ".py",
   "mimetype": "text/x-python",
   "name": "python",
   "nbconvert_exporter": "python",
   "pygments_lexer": "ipython3",
   "version": "3.9.13"
  },
  "orig_nbformat": 4
 },
 "nbformat": 4,
 "nbformat_minor": 2
}
